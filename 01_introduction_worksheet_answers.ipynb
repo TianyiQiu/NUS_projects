{
 "cells": [
  {
   "cell_type": "markdown",
   "metadata": {},
   "source": [
    "# Getting started"
   ]
  },
  {
   "cell_type": "markdown",
   "metadata": {},
   "source": [
    "For DSA1361, we will need several programs. To begin, we will need Git and Python. In the next few days, we will also install Tableau. Follow the links below, download the requisite files ,and install the following on your computer:\n",
    "\n",
    "1. [Git](https://git-scm.com/)\n",
    "2. [Python 3](https://www.python.org/downloads/)\n",
    "\n",
    "For each program, download the *latest version* available which is appropriate for your operating system."
   ]
  },
  {
   "cell_type": "markdown",
   "metadata": {},
   "source": [
    "# Git"
   ]
  },
  {
   "cell_type": "markdown",
   "metadata": {},
   "source": [
    "## Clone Remote Repository"
   ]
  },
  {
   "cell_type": "markdown",
   "metadata": {},
   "source": [
    "In this section, you will create a bitbucket account and connect to the class repository. The class repository contains the datasets used in class, and the worksheets that you have to submit each day. Make sure this is set up properly. \n",
    "\n",
    "In data science, there are numerous tools that you can use. It is important not to be overwhelmed, and to have an efficient workflow that you are comfortable with. In this class, you will be exposed to one particular (minimal) set of programs and a way of working with them. Later, you should experiment to see what works for you."
   ]
  },
  {
   "cell_type": "markdown",
   "metadata": {},
   "source": [
    "1. To begin, create a [bitbucket account](https://bitbucket.org/account/signup/) using your academic account (the one that is tied to your school). This will give you unlimited private repositories for free.\n",
    "2. Follow the instructions [here](https://confluence.atlassian.com/bitbucket/set-up-an-ssh-key-728138079.html) to set up your ssh keys. This will allow you to connect to bitbucket without having to enter a password every time.\n",
    "3. Let your instructor know your user id so that you can be added to the class repo.\n",
    "4. Clone the class repository into a folder of your choice using \n",
    "`git clone git@bitbucket.org:singator/dsa1361_class.git`\n",
    "\n",
    "For the remaining time, let us work from this repository you have just cloned. "
   ]
  },
  {
   "cell_type": "markdown",
   "metadata": {},
   "source": [
    "### Adding a file, commit it\n",
    "\n",
    "1. Create or add a new file in the `tmp/` folder on your local machine, and add it to the staging area using `git add <filename>`. For this exercise, it is preferable that this file be a text file. Name the file with your matriculation number\n",
    "2. Commit this using `git commit -m \"<message>\"` with the additional command for writing a commit message.\n",
    "3. Use `git log` to view your latest commit.\n",
    "4. `Use git push origin` to push this file to the bitbucket repository on the cloud. If it complains that you need to pull the latest files first, then go ahead and do so."
   ]
  },
  {
   "cell_type": "markdown",
   "metadata": {},
   "source": [
    "### Adding another file, revert to previous commit\n",
    "\n",
    "1. Create another file, add it and commit it to your local repository.\n",
    "2. Revert to the previous state before this file was added (use `git revert` with the relevant commit id from the git log).\n",
    "3. Check your folder and see that the file you have added in Step 1 (of this section) is now gone!"
   ]
  },
  {
   "cell_type": "markdown",
   "metadata": {},
   "source": [
    "### Modifying file, commit it\n",
    "1. Get your classmate to edit the same line of the same file as you, and then try to commit them both to the bitbucket repository.\n",
    "2. One of you will probably have to merge the changes before pushing to the remote repository."
   ]
  },
  {
   "cell_type": "markdown",
   "metadata": {},
   "source": [
    "# Python"
   ]
  },
  {
   "cell_type": "markdown",
   "metadata": {},
   "source": [
    "## Getting started\n",
    "\n",
    "In the same repository, enter the following command: `python -m venv .`Then,\n",
    "\n",
    "1. Activate the virtual environment. This is a different command depending on whether you are on a Unix-based OS or on Windows.\n",
    "2. Run the necessary pip installations for the Python libraries and Jupyter notebook needed in this course.\n",
    "\n",
    "The necessary packages are:\n",
    "* numpy\n",
    "* pandas\n",
    "* ipython\n",
    "* jupyter\n",
    "* matplotlib"
   ]
  },
  {
   "cell_type": "markdown",
   "metadata": {},
   "source": [
    "## Jupyter Notebooks\n",
    "\n",
    "1. Start running a notebook server.\n",
    "2. Open up the notebook entitled `01_introduction_worksheet.ipynb`, and rename it as `01_introduction_worksheet_xxxx`, where xxxx refers to your matriculation number.\n",
    "3. Answer the questions on that notebook, and push it to the bitbucket repository on the cloud."
   ]
  },
  {
   "cell_type": "markdown",
   "metadata": {},
   "source": [
    "## Tasks"
   ]
  },
  {
   "cell_type": "markdown",
   "metadata": {},
   "source": [
    "1. Create a list containing the following strings in Python, in this order: *The Long Halloween*, *The Killing Joke*, *Year One*, *The Dark Knight Returns*, *Hush* and *Dark Victory*. Use as many variations of the slice notation as you can to extract:\n",
    "\n",
    "    1. The first two strings.\n",
    "    2. The strings in odd positions (not indices).\n",
    "    3. The last two strings.\n",
    "    4. The two strings just before the final one."
   ]
  },
  {
   "cell_type": "code",
   "execution_count": 3,
   "metadata": {},
   "outputs": [
    {
     "data": {
      "text/plain": [
       "['The Dark Knight Returns', 'Hush']"
      ]
     },
     "execution_count": 3,
     "metadata": {},
     "output_type": "execute_result"
    }
   ],
   "source": [
    "dk_titles = ['The Long Halloween', 'The Killing Joke', 'Year One', 'The Dark Knight Returns', 'Hush', 'Dark Victory']\n",
    "ll = len(dk_titles)\n",
    "\n",
    "# first two strings:\n",
    "dk_titles[0:2]\n",
    "dk_titles[-6:-4]\n",
    "dk_titles[0:2:1]\n",
    "\n",
    "# odd positions:\n",
    "dk_titles[0:ll:2]\n",
    "dk_titles[0:6:2]\n",
    "dk_titles[-6::2]\n",
    "\n",
    "# last two strings:\n",
    "dk_titles[-2:]\n",
    "dk_titles[4:]\n",
    "\n",
    "# two strings before final one:\n",
    "dk_titles[-3:-1]\n",
    "dk_titles[3:5]\n",
    "dk_titles[ll-3:ll-1]"
   ]
  },
  {
   "cell_type": "markdown",
   "metadata": {},
   "source": [
    "2. Create a list (of length 6) that contains the number of letters in each title. Try doing it in the following ways:\n",
    "\n",
    "    1. Using a 'for' loop. You might need to use the `.append()` function for lists in this case.\n",
    "    2. Using list comprehension"
   ]
  },
  {
   "cell_type": "code",
   "execution_count": 17,
   "metadata": {},
   "outputs": [
    {
     "name": "stdout",
     "output_type": "stream",
     "text": [
      "[18, 16, 8, 23, 4, 12]\n"
     ]
    }
   ],
   "source": [
    "# Using a for loop:\n",
    "\n",
    "dk_title_lens = []\n",
    "for x in dk_titles:\n",
    "    dk_title_lens.append(len(x))\n",
    "    \n",
    "print(dk_title_lens)"
   ]
  },
  {
   "cell_type": "code",
   "execution_count": null,
   "metadata": {},
   "outputs": [],
   "source": [
    "# using list comprehension:\n",
    "\n",
    "dk_title_lens = [len(x) for x in dk_titles]"
   ]
  },
  {
   "cell_type": "markdown",
   "metadata": {},
   "source": [
    "3. The following **example** code snippet will check if the string 'The Dark Knight Rises' contains the words 'Dark Knight'. Package it into a function that takes one argument and returns True if the argument contains 'Dark Knight' and False otherwise. Apply this function to the list of titles you originally created."
   ]
  },
  {
   "cell_type": "code",
   "execution_count": 20,
   "metadata": {},
   "outputs": [
    {
     "name": "stdout",
     "output_type": "stream",
     "text": [
      "Found\n"
     ]
    }
   ],
   "source": [
    "import re\n",
    "\n",
    "x = re.search('Dark Knight', 'The Dark Knight Rises')\n",
    "if x is not None:\n",
    "    print(\"Found\")\n",
    "else:\n",
    "    print(\"Not Found\")"
   ]
  },
  {
   "cell_type": "code",
   "execution_count": 18,
   "metadata": {},
   "outputs": [],
   "source": [
    "def check_df(title_1):\n",
    "    x = re.search('Dark Knight', title_1)\n",
    "    if x is not None:\n",
    "        return(True)\n",
    "    else:\n",
    "        return(False)"
   ]
  },
  {
   "cell_type": "code",
   "execution_count": 21,
   "metadata": {},
   "outputs": [
    {
     "name": "stdout",
     "output_type": "stream",
     "text": [
      "False\n",
      "False\n",
      "False\n",
      "True\n",
      "False\n",
      "False\n"
     ]
    }
   ],
   "source": [
    "for out in map(check_df, dk_titles):\n",
    "    print(out)"
   ]
  },
  {
   "cell_type": "code",
   "execution_count": 25,
   "metadata": {
    "scrolled": true
   },
   "outputs": [],
   "source": [
    "list(map(check_df, dk_titles))"
   ]
  },
  {
   "cell_type": "code",
   "execution_count": 30,
   "metadata": {},
   "outputs": [
    {
     "data": {
      "text/plain": [
       "['The Dark Knight Returns']"
      ]
     },
     "execution_count": 30,
     "metadata": {},
     "output_type": "execute_result"
    }
   ],
   "source": [
    "list(filter(check_df, dk_titles))"
   ]
  },
  {
   "cell_type": "markdown",
   "metadata": {},
   "source": [
    "4. In Python, a dictionary contains keys and items. Run the following code to create a small dictionary in Python, loop over it and print statements in a formatted manner:"
   ]
  },
  {
   "cell_type": "code",
   "execution_count": 31,
   "metadata": {
    "scrolled": true
   },
   "outputs": [
    {
     "name": "stdout",
     "output_type": "stream",
     "text": [
      "The Dark Knight Returns is a good comic.\n",
      "Year One is a better comic.\n",
      "The Long Halloween is a best comic.\n"
     ]
    }
   ],
   "source": [
    "rank_titles = {'good': 'The Dark Knight Returns', \n",
    "               'better':'Year One', \n",
    "               'best':'The Long Halloween'}\n",
    "\n",
    "for i,v in rank_titles.items():\n",
    "    print('{0} is a {1} comic.'.format(v, i))"
   ]
  },
  {
   "cell_type": "markdown",
   "metadata": {},
   "source": [
    "5. Which method would allow you to iterate over the keys alone? Write your answer in a markdown cell below this question."
   ]
  },
  {
   "cell_type": "code",
   "execution_count": 33,
   "metadata": {},
   "outputs": [
    {
     "name": "stdout",
     "output_type": "stream",
     "text": [
      "good\n",
      "better\n",
      "best\n"
     ]
    }
   ],
   "source": [
    "for kk in rank_titles.keys():\n",
    "    print(kk)"
   ]
  }
 ],
 "metadata": {
  "kernelspec": {
   "display_name": "Python 3",
   "language": "python",
   "name": "python3"
  },
  "language_info": {
   "codemirror_mode": {
    "name": "ipython",
    "version": 3
   },
   "file_extension": ".py",
   "mimetype": "text/x-python",
   "name": "python",
   "nbconvert_exporter": "python",
   "pygments_lexer": "ipython3",
   "version": "3.6.4"
  }
 },
 "nbformat": 4,
 "nbformat_minor": 2
}
