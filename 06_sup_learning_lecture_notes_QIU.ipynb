{
 "cells": [
  {
   "cell_type": "markdown",
   "metadata": {},
   "source": [
    "First, we import the basic packages."
   ]
  },
  {
   "cell_type": "code",
   "execution_count": 2,
   "metadata": {},
   "outputs": [],
   "source": [
    "import numpy as np\n",
    "import pandas as pd                                                                   \n",
    "import matplotlib.pyplot as plt\n",
    "import pickle"
   ]
  },
  {
   "cell_type": "markdown",
   "metadata": {},
   "source": [
    "The next set of packages are the scikit learn packages that we will need."
   ]
  },
  {
   "cell_type": "code",
   "execution_count": 3,
   "metadata": {},
   "outputs": [],
   "source": [
    "from sklearn import neighbors, datasets, metrics, preprocessing, tree\n",
    "from sklearn.model_selection import StratifiedKFold, KFold, cross_val_score\n",
    "from sklearn.model_selection import GridSearchCV\n",
    "from sklearn.ensemble import RandomForestClassifier"
   ]
  },
  {
   "cell_type": "markdown",
   "metadata": {},
   "source": [
    "# Introduction\n",
    "\n",
    "### Reading in The Dataset\n",
    "\n",
    "To read a previously pickled object in, we use the following code block. This subset of the original data is a filtered version of the original one; it only contains the data from 2007-01-01 till 2011-12-31.\n",
    "\n",
    "To pickle a new object, we use the template code in comments:"
   ]
  },
  {
   "cell_type": "code",
   "execution_count": 4,
   "metadata": {},
   "outputs": [],
   "source": [
    "with open('../data/loans_0711.pkl', 'rb') as f:\n",
    "    loans_0711 = pickle.load(f)\n",
    "    \n",
    "# with open('../data/loans_no_miss.pkl', 'wb') as f:\n",
    "#    pickle.dump((X,y), f)"
   ]
  },
  {
   "cell_type": "code",
   "execution_count": 6,
   "metadata": {
    "scrolled": true
   },
   "outputs": [
    {
     "data": {
      "text/plain": [
       "(42535, 74)"
      ]
     },
     "execution_count": 6,
     "metadata": {},
     "output_type": "execute_result"
    }
   ],
   "source": [
    "loans_0711.shape"
   ]
  },
  {
   "cell_type": "markdown",
   "metadata": {},
   "source": [
    "The data dictionary, available from the [Kaggle website](https://www.kaggle.com/wendykan/lending-club-loan-data/data) where the original data can be obtained from, contains a full description of each of the 74 columns in the dataset."
   ]
  },
  {
   "cell_type": "code",
   "execution_count": 7,
   "metadata": {
    "scrolled": true
   },
   "outputs": [
    {
     "data": {
      "text/html": [
       "<div>\n",
       "<style scoped>\n",
       "    .dataframe tbody tr th:only-of-type {\n",
       "        vertical-align: middle;\n",
       "    }\n",
       "\n",
       "    .dataframe tbody tr th {\n",
       "        vertical-align: top;\n",
       "    }\n",
       "\n",
       "    .dataframe thead th {\n",
       "        text-align: right;\n",
       "    }\n",
       "</style>\n",
       "<table border=\"1\" class=\"dataframe\">\n",
       "  <thead>\n",
       "    <tr style=\"text-align: right;\">\n",
       "      <th></th>\n",
       "      <th>id</th>\n",
       "      <th>member_id</th>\n",
       "      <th>loan_amnt</th>\n",
       "      <th>funded_amnt</th>\n",
       "      <th>funded_amnt_inv</th>\n",
       "      <th>term</th>\n",
       "      <th>int_rate</th>\n",
       "      <th>installment</th>\n",
       "      <th>grade</th>\n",
       "      <th>sub_grade</th>\n",
       "      <th>...</th>\n",
       "      <th>total_bal_il</th>\n",
       "      <th>il_util</th>\n",
       "      <th>open_rv_12m</th>\n",
       "      <th>open_rv_24m</th>\n",
       "      <th>max_bal_bc</th>\n",
       "      <th>all_util</th>\n",
       "      <th>total_rev_hi_lim</th>\n",
       "      <th>inq_fi</th>\n",
       "      <th>total_cu_tl</th>\n",
       "      <th>inq_last_12m</th>\n",
       "    </tr>\n",
       "  </thead>\n",
       "  <tbody>\n",
       "    <tr>\n",
       "      <th>0</th>\n",
       "      <td>1077501</td>\n",
       "      <td>1296599</td>\n",
       "      <td>5000.0</td>\n",
       "      <td>5000.0</td>\n",
       "      <td>4975.0</td>\n",
       "      <td>36 months</td>\n",
       "      <td>10.65</td>\n",
       "      <td>162.87</td>\n",
       "      <td>B</td>\n",
       "      <td>B2</td>\n",
       "      <td>...</td>\n",
       "      <td>NaN</td>\n",
       "      <td>NaN</td>\n",
       "      <td>NaN</td>\n",
       "      <td>NaN</td>\n",
       "      <td>NaN</td>\n",
       "      <td>NaN</td>\n",
       "      <td>NaN</td>\n",
       "      <td>NaN</td>\n",
       "      <td>NaN</td>\n",
       "      <td>NaN</td>\n",
       "    </tr>\n",
       "    <tr>\n",
       "      <th>1</th>\n",
       "      <td>1077430</td>\n",
       "      <td>1314167</td>\n",
       "      <td>2500.0</td>\n",
       "      <td>2500.0</td>\n",
       "      <td>2500.0</td>\n",
       "      <td>60 months</td>\n",
       "      <td>15.27</td>\n",
       "      <td>59.83</td>\n",
       "      <td>C</td>\n",
       "      <td>C4</td>\n",
       "      <td>...</td>\n",
       "      <td>NaN</td>\n",
       "      <td>NaN</td>\n",
       "      <td>NaN</td>\n",
       "      <td>NaN</td>\n",
       "      <td>NaN</td>\n",
       "      <td>NaN</td>\n",
       "      <td>NaN</td>\n",
       "      <td>NaN</td>\n",
       "      <td>NaN</td>\n",
       "      <td>NaN</td>\n",
       "    </tr>\n",
       "  </tbody>\n",
       "</table>\n",
       "<p>2 rows × 74 columns</p>\n",
       "</div>"
      ],
      "text/plain": [
       "        id  member_id  loan_amnt  funded_amnt  funded_amnt_inv        term  \\\n",
       "0  1077501    1296599     5000.0       5000.0           4975.0   36 months   \n",
       "1  1077430    1314167     2500.0       2500.0           2500.0   60 months   \n",
       "\n",
       "   int_rate  installment grade sub_grade     ...      total_bal_il il_util  \\\n",
       "0     10.65       162.87     B        B2     ...               NaN     NaN   \n",
       "1     15.27        59.83     C        C4     ...               NaN     NaN   \n",
       "\n",
       "  open_rv_12m  open_rv_24m max_bal_bc all_util total_rev_hi_lim inq_fi  \\\n",
       "0         NaN          NaN        NaN      NaN              NaN    NaN   \n",
       "1         NaN          NaN        NaN      NaN              NaN    NaN   \n",
       "\n",
       "  total_cu_tl inq_last_12m  \n",
       "0         NaN          NaN  \n",
       "1         NaN          NaN  \n",
       "\n",
       "[2 rows x 74 columns]"
      ]
     },
     "execution_count": 7,
     "metadata": {},
     "output_type": "execute_result"
    }
   ],
   "source": [
    "loans_0711.head(2)"
   ]
  },
  {
   "cell_type": "markdown",
   "metadata": {},
   "source": [
    "As we can see, there are missing values in the columns. We shall perform some data cleaning to create a new dataset before proceeding."
   ]
  },
  {
   "cell_type": "code",
   "execution_count": 9,
   "metadata": {},
   "outputs": [
    {
     "name": "stdout",
     "output_type": "stream",
     "text": [
      "<class 'pandas.core.frame.DataFrame'>\n",
      "Int64Index: 42535 entries, 0 to 42534\n",
      "Data columns (total 74 columns):\n",
      "id                             42535 non-null int64\n",
      "member_id                      42535 non-null int64\n",
      "loan_amnt                      42535 non-null float64\n",
      "funded_amnt                    42535 non-null float64\n",
      "funded_amnt_inv                42535 non-null float64\n",
      "term                           42535 non-null object\n",
      "int_rate                       42535 non-null float64\n",
      "installment                    42535 non-null float64\n",
      "grade                          42535 non-null object\n",
      "sub_grade                      42535 non-null object\n",
      "emp_title                      39909 non-null object\n",
      "emp_length                     41423 non-null object\n",
      "home_ownership                 42535 non-null object\n",
      "annual_inc                     42531 non-null float64\n",
      "verification_status            42535 non-null object\n",
      "issue_d                        42535 non-null datetime64[ns]\n",
      "loan_status                    42535 non-null object\n",
      "pymnt_plan                     42535 non-null object\n",
      "url                            42535 non-null object\n",
      "desc                           29242 non-null object\n",
      "purpose                        42535 non-null object\n",
      "title                          42522 non-null object\n",
      "zip_code                       42535 non-null object\n",
      "addr_state                     42535 non-null object\n",
      "dti                            42535 non-null float64\n",
      "delinq_2yrs                    42506 non-null float64\n",
      "earliest_cr_line               42506 non-null object\n",
      "inq_last_6mths                 42506 non-null float64\n",
      "mths_since_last_delinq         15609 non-null float64\n",
      "mths_since_last_record         3651 non-null float64\n",
      "open_acc                       42506 non-null float64\n",
      "pub_rec                        42506 non-null float64\n",
      "revol_bal                      42535 non-null float64\n",
      "revol_util                     42445 non-null float64\n",
      "total_acc                      42506 non-null float64\n",
      "initial_list_status            42535 non-null object\n",
      "out_prncp                      42535 non-null float64\n",
      "out_prncp_inv                  42535 non-null float64\n",
      "total_pymnt                    42535 non-null float64\n",
      "total_pymnt_inv                42535 non-null float64\n",
      "total_rec_prncp                42535 non-null float64\n",
      "total_rec_int                  42535 non-null float64\n",
      "total_rec_late_fee             42535 non-null float64\n",
      "recoveries                     42535 non-null float64\n",
      "collection_recovery_fee        42535 non-null float64\n",
      "last_pymnt_d                   42452 non-null object\n",
      "last_pymnt_amnt                42535 non-null float64\n",
      "next_pymnt_d                   4810 non-null object\n",
      "last_credit_pull_d             42531 non-null object\n",
      "collections_12_mths_ex_med     42390 non-null float64\n",
      "mths_since_last_major_derog    0 non-null float64\n",
      "policy_code                    42535 non-null float64\n",
      "application_type               42535 non-null object\n",
      "annual_inc_joint               0 non-null float64\n",
      "dti_joint                      0 non-null float64\n",
      "verification_status_joint      0 non-null object\n",
      "acc_now_delinq                 42506 non-null float64\n",
      "tot_coll_amt                   0 non-null float64\n",
      "tot_cur_bal                    0 non-null float64\n",
      "open_acc_6m                    0 non-null float64\n",
      "open_il_6m                     0 non-null float64\n",
      "open_il_12m                    0 non-null float64\n",
      "open_il_24m                    0 non-null float64\n",
      "mths_since_rcnt_il             0 non-null float64\n",
      "total_bal_il                   0 non-null float64\n",
      "il_util                        0 non-null float64\n",
      "open_rv_12m                    0 non-null float64\n",
      "open_rv_24m                    0 non-null float64\n",
      "max_bal_bc                     0 non-null float64\n",
      "all_util                       0 non-null float64\n",
      "total_rev_hi_lim               0 non-null float64\n",
      "inq_fi                         0 non-null float64\n",
      "total_cu_tl                    0 non-null float64\n",
      "inq_last_12m                   0 non-null float64\n",
      "dtypes: datetime64[ns](1), float64(49), int64(2), object(22)\n",
      "memory usage: 24.3+ MB\n"
     ]
    }
   ],
   "source": [
    "loans_0711.info()"
   ]
  },
  {
   "cell_type": "code",
   "execution_count": 10,
   "metadata": {},
   "outputs": [],
   "source": [
    "# select the columns to keep\n",
    "cols_to_keep = ['annual_inc', 'delinq_2yrs', 'dti',\n",
    "                'emp_length', 'int_rate', 'loan_amnt',\n",
    "                'installment', 'inq_last_6mths', 'total_acc',\n",
    "                'revol_util', 'revol_bal', 'funded_amnt_inv']\n",
    "\n",
    "loans_0711_sub = loans_0711.loc[:, cols_to_keep]"
   ]
  },
  {
   "cell_type": "markdown",
   "metadata": {},
   "source": [
    "Next, we create a variable that contains the labels that we wish to predict."
   ]
  },
  {
   "cell_type": "code",
   "execution_count": 21,
   "metadata": {},
   "outputs": [],
   "source": [
    "# create a new variable that contains the labels we wish to predict\n",
    "loan = loans_0711_sub['loan_amnt'].values\n",
    "funded = loans_0711_sub['funded_amnt_inv'].values                                         \n",
    "targets = np.abs(loan-funded)/loan\n",
    "\n",
    "loans_0711_sub['target_q'] = targets # Quantitative version of variable\n",
    "# Categorical version of variable\n",
    "loans_0711_sub['target_c'] = np.where(loans_0711_sub.target_q >= 0.05, 1, 0)"
   ]
  },
  {
   "cell_type": "markdown",
   "metadata": {},
   "source": [
    "Next, we drop the rows with missing values."
   ]
  },
  {
   "cell_type": "code",
   "execution_count": 22,
   "metadata": {},
   "outputs": [],
   "source": [
    "# drop missing values rows\n",
    "# notna function; not NA\n",
    "no_miss = loans_0711_sub[pd.notna(loans_0711_sub).all(axis=1)]"
   ]
  },
  {
   "cell_type": "code",
   "execution_count": 23,
   "metadata": {},
   "outputs": [
    {
     "data": {
      "text/plain": [
       "0    10+ years\n",
       "1     < 1 year\n",
       "2    10+ years\n",
       "3    10+ years\n",
       "4       1 year\n",
       "Name: emp_length, dtype: object"
      ]
     },
     "execution_count": 23,
     "metadata": {},
     "output_type": "execute_result"
    }
   ],
   "source": [
    "no_miss.emp_length.head()\n",
    "# only need the number part"
   ]
  },
  {
   "cell_type": "code",
   "execution_count": 25,
   "metadata": {},
   "outputs": [],
   "source": [
    "emp2 = no_miss.emp_length.str.extract(pat='(^[\\d].* )', expand=False).values\n",
    "# ^ means start from, \\d means digital, so this code searches for sth. starting with digital.\n",
    "emp2 = np.where(pd.isna(emp2), '0', emp2)\n",
    "emp2 = np.where(emp2 == '10+ ', '11', emp2)\n",
    "emp2 = [int(x.strip()) for x in emp2]\n",
    "no_miss = no_miss.assign(emp_length = emp2)"
   ]
  },
  {
   "cell_type": "code",
   "execution_count": 26,
   "metadata": {},
   "outputs": [
    {
     "data": {
      "text/plain": [
       "0    11\n",
       "1     0\n",
       "2    11\n",
       "3    11\n",
       "4     1\n",
       "Name: emp_length, dtype: int64"
      ]
     },
     "execution_count": 26,
     "metadata": {},
     "output_type": "execute_result"
    }
   ],
   "source": [
    "no_miss.emp_length.head()"
   ]
  },
  {
   "cell_type": "markdown",
   "metadata": {},
   "source": [
    "Finally, we store them as numpy arrays and pickle them so that we will not have to do the above every time."
   ]
  },
  {
   "cell_type": "code",
   "execution_count": 30,
   "metadata": {},
   "outputs": [],
   "source": [
    "X = no_miss.iloc[:, 0:12].values\n",
    "y = no_miss.target_c.values\n",
    "with open('../data/loans_no_miss.pkl', 'wb') as f:\n",
    "    pickle.dump((X,y), f)"
   ]
  },
  {
   "cell_type": "code",
   "execution_count": 31,
   "metadata": {},
   "outputs": [
    {
     "data": {
      "text/plain": [
       "array([[2.4000e+04, 0.0000e+00, 2.7650e+01, 1.1000e+01, 1.0650e+01,\n",
       "        5.0000e+03, 1.6287e+02, 1.0000e+00, 9.0000e+00, 8.3700e+01,\n",
       "        1.3648e+04, 4.9750e+03],\n",
       "       [3.0000e+04, 0.0000e+00, 1.0000e+00, 0.0000e+00, 1.5270e+01,\n",
       "        2.5000e+03, 5.9830e+01, 5.0000e+00, 4.0000e+00, 9.4000e+00,\n",
       "        1.6870e+03, 2.5000e+03]])"
      ]
     },
     "execution_count": 31,
     "metadata": {},
     "output_type": "execute_result"
    }
   ],
   "source": [
    "X[0:2,:]"
   ]
  },
  {
   "cell_type": "markdown",
   "metadata": {},
   "source": [
    "# Supervised Learning Methods and Concepts\n",
    "\n",
    "## k-Nearest Neighbours (KNN)\n",
    "\n",
    "Nearest neighbours can be defined in terms of the **number** of nearest neighbours, or they can be defined in terms of a **radius** - all observations within a particular radius are considered neighbours."
   ]
  },
  {
   "cell_type": "code",
   "execution_count": 32,
   "metadata": {},
   "outputs": [],
   "source": [
    "from sklearn import neighbors\n",
    "from sklearn import datasets\n",
    "\n",
    "# Create an instance of k-Nearest neighbor classifier\n",
    "nn11 = neighbors.KNeighborsClassifier(n_neighbors = 11, n_jobs=-1)"
   ]
  },
  {
   "cell_type": "markdown",
   "metadata": {},
   "source": [
    "We train the classfier using the input samples and their corresponding output values (the desired outcomes)."
   ]
  },
  {
   "cell_type": "code",
   "execution_count": 33,
   "metadata": {},
   "outputs": [
    {
     "data": {
      "text/plain": [
       "KNeighborsClassifier(algorithm='auto', leaf_size=30, metric='minkowski',\n",
       "           metric_params=None, n_jobs=-1, n_neighbors=11, p=2,\n",
       "           weights='uniform')"
      ]
     },
     "execution_count": 33,
     "metadata": {},
     "output_type": "execute_result"
    }
   ],
   "source": [
    "# Train the classifier\n",
    "nn11.fit(X, y)"
   ]
  },
  {
   "cell_type": "markdown",
   "metadata": {},
   "source": [
    "The `nn11` object now contains the fitted model. In this case, it simply remembers the neighbours of each observation. We can extract the neighbours of a particular point.\n",
    "\n",
    "Let us find the neighbours of the first point in the dataset."
   ]
  },
  {
   "cell_type": "code",
   "execution_count": 35,
   "metadata": {},
   "outputs": [
    {
     "data": {
      "text/plain": [
       "(array([[   0.        ,  631.24367728, 1164.28217426, 1240.161276  ,\n",
       "         1633.47947064, 1645.70780772, 1864.11841805, 1914.1180129 ,\n",
       "         1937.14303398, 1957.47561076, 1958.97612494]]),\n",
       " array([[    0, 25371, 15846, 25507, 25530,  2355, 25342, 13048, 17716,\n",
       "         28406, 14959]], dtype=int64))"
      ]
     },
     "execution_count": 35,
     "metadata": {},
     "output_type": "execute_result"
    }
   ],
   "source": [
    "nn11.kneighbors(X[0,:].reshape(1,-1)) # 自然会找到第一行"
   ]
  },
  {
   "cell_type": "code",
   "execution_count": 34,
   "metadata": {},
   "outputs": [],
   "source": [
    "dist,ind = nn11.kneighbors(X[0,:].reshape(1,-1)) #把第一行作为要寻找同类的"
   ]
  },
  {
   "cell_type": "markdown",
   "metadata": {},
   "source": [
    "One of the indices is of course 0. A point is always neighbours with itself!"
   ]
  },
  {
   "cell_type": "code",
   "execution_count": 36,
   "metadata": {
    "scrolled": true
   },
   "outputs": [
    {
     "data": {
      "text/plain": [
       "0.8960228372363074"
      ]
     },
     "execution_count": 36,
     "metadata": {},
     "output_type": "execute_result"
    }
   ],
   "source": [
    "nn11.score(X,y) # accuracy: 多少比重的分类是正确的"
   ]
  },
  {
   "cell_type": "code",
   "execution_count": 17,
   "metadata": {},
   "outputs": [
    {
     "data": {
      "text/plain": [
       "array([[33536,    36],\n",
       "       [ 4262,  3502]])"
      ]
     },
     "execution_count": 17,
     "metadata": {},
     "output_type": "execute_result"
    }
   ],
   "source": [
    "yhat = nn11.predict(X)\n",
    "metrics.confusion_matrix(y, yhat)"
   ]
  },
  {
   "cell_type": "raw",
   "metadata": {},
   "source": [
    "What happens if we make a prediction of *always 0*?"
   ]
  },
  {
   "cell_type": "code",
   "execution_count": 18,
   "metadata": {},
   "outputs": [
    {
     "data": {
      "text/plain": [
       "array([[33572,     0],\n",
       "       [ 7764,     0]])"
      ]
     },
     "execution_count": 18,
     "metadata": {},
     "output_type": "execute_result"
    }
   ],
   "source": [
    "metrics.confusion_matrix(y, np.zeros(len(y)))"
   ]
  },
  {
   "cell_type": "code",
   "execution_count": 22,
   "metadata": {},
   "outputs": [
    {
     "data": {
      "text/plain": [
       "0.812173408167215"
      ]
     },
     "execution_count": 22,
     "metadata": {},
     "output_type": "execute_result"
    }
   ],
   "source": [
    "1- np.mean(y)"
   ]
  },
  {
   "cell_type": "markdown",
   "metadata": {},
   "source": [
    "What would happen if we used a nearest neighbour model with $k=1$? Try it out."
   ]
  },
  {
   "cell_type": "code",
   "execution_count": null,
   "metadata": {},
   "outputs": [],
   "source": [
    "# the acc=100%"
   ]
  },
  {
   "cell_type": "markdown",
   "metadata": {},
   "source": [
    "## Training and Testing Sets\n",
    "\n",
    "### Training and Testing Set\n",
    "\n",
    "We would like to put aside 25% of the data for testing. There are several \n",
    "functions in `sklearn` to perform this split. What we use here is referred to as a [Stratified Shuffle Split](http://scikit-learn.org/stable/modules/generated/sklearn.model_selection.StratifiedShuffleSplit.html)."
   ]
  },
  {
   "cell_type": "code",
   "execution_count": 37,
   "metadata": {},
   "outputs": [
    {
     "name": "stdout",
     "output_type": "stream",
     "text": [
      "TRAIN: [34573 12153 36328 ... 32345 33407 28294] TEST: [21430 20972 17430 ... 14416 36885  1107]\n"
     ]
    }
   ],
   "source": [
    "from sklearn.model_selection import StratifiedShuffleSplit\n",
    "\n",
    "sss = StratifiedShuffleSplit(n_splits = 1, test_size = 0.25, \n",
    "                             random_state = 42)\n",
    "sss.get_n_splits(X, y)\n",
    "for train_index, test_index in sss.split(X, y):\n",
    "    print(\"TRAIN:\", train_index, \"TEST:\", test_index)\n",
    "    X_train, X_test = X[train_index], X[test_index]\n",
    "    y_train, y_test = y[train_index], y[test_index]"
   ]
  },
  {
   "cell_type": "markdown",
   "metadata": {},
   "source": [
    "### Choosing Hyperparameters\n",
    "\n",
    "First, we use the simplest form of cross-validation. The result will always be the same, as opposed to using a shuffle split."
   ]
  },
  {
   "cell_type": "code",
   "execution_count": 38,
   "metadata": {
    "scrolled": true
   },
   "outputs": [
    {
     "data": {
      "text/plain": [
       "array([0.87534269, 0.87276246, 0.88324464, 0.87790323, 0.87820616])"
      ]
     },
     "execution_count": 38,
     "metadata": {},
     "output_type": "execute_result"
    }
   ],
   "source": [
    "nn11 = neighbors.KNeighborsClassifier(n_neighbors=11, n_jobs=-1)\n",
    "cross_val_score(nn11, X_train, y_train, cv=5)"
   ]
  },
  {
   "cell_type": "markdown",
   "metadata": {},
   "source": [
    "Here is the performance on the test set, after fitting the model to the full training set."
   ]
  },
  {
   "cell_type": "code",
   "execution_count": 39,
   "metadata": {},
   "outputs": [
    {
     "data": {
      "text/plain": [
       "0.8835881556028643"
      ]
     },
     "execution_count": 39,
     "metadata": {},
     "output_type": "execute_result"
    }
   ],
   "source": [
    "nn11.fit(X_train, y_train)\n",
    "nn11.score(X_test, y_test)"
   ]
  },
  {
   "cell_type": "markdown",
   "metadata": {},
   "source": [
    "Next, we perform a grid search for the best value of $k$ to use. We search over the values 5 to 11."
   ]
  },
  {
   "cell_type": "code",
   "execution_count": 40,
   "metadata": {},
   "outputs": [
    {
     "data": {
      "text/plain": [
       "array([ 5,  6,  7,  8,  9, 10])"
      ]
     },
     "execution_count": 40,
     "metadata": {},
     "output_type": "execute_result"
    }
   ],
   "source": [
    "np.arange(5, 11)"
   ]
  },
  {
   "cell_type": "code",
   "execution_count": 41,
   "metadata": {},
   "outputs": [
    {
     "data": {
      "text/plain": [
       "GridSearchCV(cv=5, error_score='raise',\n",
       "       estimator=KNeighborsClassifier(algorithm='auto', leaf_size=30, metric='minkowski',\n",
       "           metric_params=None, n_jobs=1, n_neighbors=5, p=2,\n",
       "           weights='uniform'),\n",
       "       fit_params=None, iid=True, n_jobs=-1,\n",
       "       param_grid={'n_neighbors': array([ 5,  6,  7,  8,  9, 10])},\n",
       "       pre_dispatch='2*n_jobs', refit=True, return_train_score=True,\n",
       "       scoring=None, verbose=0)"
      ]
     },
     "execution_count": 41,
     "metadata": {},
     "output_type": "execute_result"
    }
   ],
   "source": [
    "n_n = np.arange(5, 11)                                                                                             \n",
    "nn_gs = neighbors.KNeighborsClassifier()\n",
    "clf = GridSearchCV(estimator=nn_gs, param_grid=dict(n_neighbors=n_n), \n",
    "                   cv=5, n_jobs=-1, return_train_score=True)\n",
    "clf.fit(X_train, y_train)"
   ]
  },
  {
   "cell_type": "code",
   "execution_count": null,
   "metadata": {},
   "outputs": [],
   "source": [
    "clf.# + tab"
   ]
  },
  {
   "cell_type": "code",
   "execution_count": 23,
   "metadata": {},
   "outputs": [
    {
     "data": {
      "text/plain": [
       "{'n_neighbors': 5}"
      ]
     },
     "execution_count": 23,
     "metadata": {},
     "output_type": "execute_result"
    }
   ],
   "source": [
    "clf.best_params_"
   ]
  },
  {
   "cell_type": "code",
   "execution_count": 42,
   "metadata": {},
   "outputs": [
    {
     "data": {
      "text/plain": [
       "{'mean_fit_time': array([0.10478039, 0.10137134, 0.08736148, 0.08996325, 0.09296551,\n",
       "        0.11528144]),\n",
       " 'mean_score_time': array([0.26979156, 0.28360162, 0.27709703, 0.29561   , 0.32453036,\n",
       "        0.33854017]),\n",
       " 'mean_test_score': array([0.8892007 , 0.88352364, 0.88542675, 0.87920134, 0.88107219,\n",
       "        0.87594349]),\n",
       " 'mean_train_score': array([0.90829625, 0.89452295, 0.89826464, 0.8882411 , 0.89141026,\n",
       "        0.88332205]),\n",
       " 'param_n_neighbors': masked_array(data=[5, 6, 7, 8, 9, 10],\n",
       "              mask=[False, False, False, False, False, False],\n",
       "        fill_value='?',\n",
       "             dtype=object),\n",
       " 'params': [{'n_neighbors': 5},\n",
       "  {'n_neighbors': 6},\n",
       "  {'n_neighbors': 7},\n",
       "  {'n_neighbors': 8},\n",
       "  {'n_neighbors': 9},\n",
       "  {'n_neighbors': 10}],\n",
       " 'rank_test_score': array([1, 3, 2, 5, 4, 6]),\n",
       " 'split0_test_score': array([0.88743751, 0.88098694, 0.88276085, 0.87727786, 0.87937429,\n",
       "        0.87405257]),\n",
       " 'split0_train_score': array([0.90927785, 0.89552841, 0.89907665, 0.88972219, 0.89310915,\n",
       "        0.88403693]),\n",
       " 'split1_test_score': array([0.88292211, 0.87824544, 0.87905177, 0.87373004, 0.87631027,\n",
       "        0.87243993]),\n",
       " 'split1_train_score': array([0.90951978, 0.89593162, 0.89968146, 0.89040764, 0.89375428,\n",
       "        0.88488367]),\n",
       " 'split2_test_score': array([0.89421061, 0.88743751, 0.89130785, 0.88453475, 0.88630866,\n",
       "        0.8811482 ]),\n",
       " 'split2_train_score': array([0.90701988, 0.89278658, 0.89669771, 0.88637555, 0.8895609 ,\n",
       "        0.881658  ]),\n",
       " 'split3_test_score': array([0.89016129, 0.88467742, 0.88596774, 0.87983871, 0.88080645,\n",
       "        0.87580645]),\n",
       " 'split3_train_score': array([0.9073865 , 0.89456495, 0.89815337, 0.88750907, 0.8904927 ,\n",
       "        0.88267075]),\n",
       " 'split4_test_score': array([0.89127279, 0.88627198, 0.88804646, 0.88062591, 0.8825617 ,\n",
       "        0.87627037]),\n",
       " 'split4_train_score': array([0.90827722, 0.89380317, 0.89771399, 0.88719107, 0.89013426,\n",
       "        0.88336088]),\n",
       " 'std_fit_time': array([0.02313205, 0.01005007, 0.00186153, 0.00213225, 0.00874359,\n",
       "        0.03416649]),\n",
       " 'std_score_time': array([0.07630425, 0.02635339, 0.00759073, 0.01124854, 0.03326586,\n",
       "        0.01582123]),\n",
       " 'std_test_score': array([0.00381708, 0.00342053, 0.00423076, 0.00359225, 0.00332485,\n",
       "        0.00293494]),\n",
       " 'std_train_score': array([0.00099173, 0.00114281, 0.00104284, 0.0015496 , 0.00168943,\n",
       "        0.00110856])}"
      ]
     },
     "execution_count": 42,
     "metadata": {},
     "output_type": "execute_result"
    }
   ],
   "source": [
    "clf.cv_results_"
   ]
  },
  {
   "cell_type": "markdown",
   "metadata": {},
   "source": [
    "## Random Forest"
   ]
  },
  {
   "cell_type": "code",
   "execution_count": 43,
   "metadata": {},
   "outputs": [],
   "source": [
    "RandomForestClassifier?"
   ]
  },
  {
   "cell_type": "code",
   "execution_count": 46,
   "metadata": {},
   "outputs": [],
   "source": [
    "n_trees = np.arange(10, 200, 20)"
   ]
  },
  {
   "cell_type": "code",
   "execution_count": 47,
   "metadata": {},
   "outputs": [],
   "source": [
    "# Create a Random Forest classifier\n",
    "forest_gs = RandomForestClassifier(class_weight='balanced')"
   ]
  },
  {
   "cell_type": "code",
   "execution_count": 48,
   "metadata": {},
   "outputs": [
    {
     "ename": "KeyboardInterrupt",
     "evalue": "",
     "output_type": "error",
     "traceback": [
      "\u001b[1;31m---------------------------------------------------------------------------\u001b[0m",
      "\u001b[1;31mKeyboardInterrupt\u001b[0m                         Traceback (most recent call last)",
      "\u001b[1;32m<ipython-input-48-144dea8794e7>\u001b[0m in \u001b[0;36m<module>\u001b[1;34m()\u001b[0m\n\u001b[0;32m      1\u001b[0m clf2 = GridSearchCV(estimator=forest_gs, param_grid=dict(n_estimators=n_trees), \n\u001b[0;32m      2\u001b[0m                    cv=5, n_jobs=-1, return_train_score=True)\n\u001b[1;32m----> 3\u001b[1;33m \u001b[0mclf2\u001b[0m\u001b[1;33m.\u001b[0m\u001b[0mfit\u001b[0m\u001b[1;33m(\u001b[0m\u001b[0mX_train\u001b[0m\u001b[1;33m,\u001b[0m \u001b[0my_train\u001b[0m\u001b[1;33m)\u001b[0m\u001b[1;33m\u001b[0m\u001b[0m\n\u001b[0m",
      "\u001b[1;32mD:\\Anaconda\\Anaconda_Download\\lib\\site-packages\\sklearn\\model_selection\\_search.py\u001b[0m in \u001b[0;36mfit\u001b[1;34m(self, X, y, groups, **fit_params)\u001b[0m\n\u001b[0;32m    637\u001b[0m                                   error_score=self.error_score)\n\u001b[0;32m    638\u001b[0m           for parameters, (train, test) in product(candidate_params,\n\u001b[1;32m--> 639\u001b[1;33m                                                    cv.split(X, y, groups)))\n\u001b[0m\u001b[0;32m    640\u001b[0m \u001b[1;33m\u001b[0m\u001b[0m\n\u001b[0;32m    641\u001b[0m         \u001b[1;31m# if one choose to see train score, \"out\" will contain train score info\u001b[0m\u001b[1;33m\u001b[0m\u001b[1;33m\u001b[0m\u001b[0m\n",
      "\u001b[1;32mD:\\Anaconda\\Anaconda_Download\\lib\\site-packages\\sklearn\\externals\\joblib\\parallel.py\u001b[0m in \u001b[0;36m__call__\u001b[1;34m(self, iterable)\u001b[0m\n\u001b[0;32m    787\u001b[0m                 \u001b[1;31m# consumption.\u001b[0m\u001b[1;33m\u001b[0m\u001b[1;33m\u001b[0m\u001b[0m\n\u001b[0;32m    788\u001b[0m                 \u001b[0mself\u001b[0m\u001b[1;33m.\u001b[0m\u001b[0m_iterating\u001b[0m \u001b[1;33m=\u001b[0m \u001b[1;32mFalse\u001b[0m\u001b[1;33m\u001b[0m\u001b[0m\n\u001b[1;32m--> 789\u001b[1;33m             \u001b[0mself\u001b[0m\u001b[1;33m.\u001b[0m\u001b[0mretrieve\u001b[0m\u001b[1;33m(\u001b[0m\u001b[1;33m)\u001b[0m\u001b[1;33m\u001b[0m\u001b[0m\n\u001b[0m\u001b[0;32m    790\u001b[0m             \u001b[1;31m# Make sure that we get a last message telling us we are done\u001b[0m\u001b[1;33m\u001b[0m\u001b[1;33m\u001b[0m\u001b[0m\n\u001b[0;32m    791\u001b[0m             \u001b[0melapsed_time\u001b[0m \u001b[1;33m=\u001b[0m \u001b[0mtime\u001b[0m\u001b[1;33m.\u001b[0m\u001b[0mtime\u001b[0m\u001b[1;33m(\u001b[0m\u001b[1;33m)\u001b[0m \u001b[1;33m-\u001b[0m \u001b[0mself\u001b[0m\u001b[1;33m.\u001b[0m\u001b[0m_start_time\u001b[0m\u001b[1;33m\u001b[0m\u001b[0m\n",
      "\u001b[1;32mD:\\Anaconda\\Anaconda_Download\\lib\\site-packages\\sklearn\\externals\\joblib\\parallel.py\u001b[0m in \u001b[0;36mretrieve\u001b[1;34m(self)\u001b[0m\n\u001b[0;32m    697\u001b[0m             \u001b[1;32mtry\u001b[0m\u001b[1;33m:\u001b[0m\u001b[1;33m\u001b[0m\u001b[0m\n\u001b[0;32m    698\u001b[0m                 \u001b[1;32mif\u001b[0m \u001b[0mgetattr\u001b[0m\u001b[1;33m(\u001b[0m\u001b[0mself\u001b[0m\u001b[1;33m.\u001b[0m\u001b[0m_backend\u001b[0m\u001b[1;33m,\u001b[0m \u001b[1;34m'supports_timeout'\u001b[0m\u001b[1;33m,\u001b[0m \u001b[1;32mFalse\u001b[0m\u001b[1;33m)\u001b[0m\u001b[1;33m:\u001b[0m\u001b[1;33m\u001b[0m\u001b[0m\n\u001b[1;32m--> 699\u001b[1;33m                     \u001b[0mself\u001b[0m\u001b[1;33m.\u001b[0m\u001b[0m_output\u001b[0m\u001b[1;33m.\u001b[0m\u001b[0mextend\u001b[0m\u001b[1;33m(\u001b[0m\u001b[0mjob\u001b[0m\u001b[1;33m.\u001b[0m\u001b[0mget\u001b[0m\u001b[1;33m(\u001b[0m\u001b[0mtimeout\u001b[0m\u001b[1;33m=\u001b[0m\u001b[0mself\u001b[0m\u001b[1;33m.\u001b[0m\u001b[0mtimeout\u001b[0m\u001b[1;33m)\u001b[0m\u001b[1;33m)\u001b[0m\u001b[1;33m\u001b[0m\u001b[0m\n\u001b[0m\u001b[0;32m    700\u001b[0m                 \u001b[1;32melse\u001b[0m\u001b[1;33m:\u001b[0m\u001b[1;33m\u001b[0m\u001b[0m\n\u001b[0;32m    701\u001b[0m                     \u001b[0mself\u001b[0m\u001b[1;33m.\u001b[0m\u001b[0m_output\u001b[0m\u001b[1;33m.\u001b[0m\u001b[0mextend\u001b[0m\u001b[1;33m(\u001b[0m\u001b[0mjob\u001b[0m\u001b[1;33m.\u001b[0m\u001b[0mget\u001b[0m\u001b[1;33m(\u001b[0m\u001b[1;33m)\u001b[0m\u001b[1;33m)\u001b[0m\u001b[1;33m\u001b[0m\u001b[0m\n",
      "\u001b[1;32mD:\\Anaconda\\Anaconda_Download\\lib\\multiprocessing\\pool.py\u001b[0m in \u001b[0;36mget\u001b[1;34m(self, timeout)\u001b[0m\n\u001b[0;32m    636\u001b[0m \u001b[1;33m\u001b[0m\u001b[0m\n\u001b[0;32m    637\u001b[0m     \u001b[1;32mdef\u001b[0m \u001b[0mget\u001b[0m\u001b[1;33m(\u001b[0m\u001b[0mself\u001b[0m\u001b[1;33m,\u001b[0m \u001b[0mtimeout\u001b[0m\u001b[1;33m=\u001b[0m\u001b[1;32mNone\u001b[0m\u001b[1;33m)\u001b[0m\u001b[1;33m:\u001b[0m\u001b[1;33m\u001b[0m\u001b[0m\n\u001b[1;32m--> 638\u001b[1;33m         \u001b[0mself\u001b[0m\u001b[1;33m.\u001b[0m\u001b[0mwait\u001b[0m\u001b[1;33m(\u001b[0m\u001b[0mtimeout\u001b[0m\u001b[1;33m)\u001b[0m\u001b[1;33m\u001b[0m\u001b[0m\n\u001b[0m\u001b[0;32m    639\u001b[0m         \u001b[1;32mif\u001b[0m \u001b[1;32mnot\u001b[0m \u001b[0mself\u001b[0m\u001b[1;33m.\u001b[0m\u001b[0mready\u001b[0m\u001b[1;33m(\u001b[0m\u001b[1;33m)\u001b[0m\u001b[1;33m:\u001b[0m\u001b[1;33m\u001b[0m\u001b[0m\n\u001b[0;32m    640\u001b[0m             \u001b[1;32mraise\u001b[0m \u001b[0mTimeoutError\u001b[0m\u001b[1;33m\u001b[0m\u001b[0m\n",
      "\u001b[1;32mD:\\Anaconda\\Anaconda_Download\\lib\\multiprocessing\\pool.py\u001b[0m in \u001b[0;36mwait\u001b[1;34m(self, timeout)\u001b[0m\n\u001b[0;32m    633\u001b[0m \u001b[1;33m\u001b[0m\u001b[0m\n\u001b[0;32m    634\u001b[0m     \u001b[1;32mdef\u001b[0m \u001b[0mwait\u001b[0m\u001b[1;33m(\u001b[0m\u001b[0mself\u001b[0m\u001b[1;33m,\u001b[0m \u001b[0mtimeout\u001b[0m\u001b[1;33m=\u001b[0m\u001b[1;32mNone\u001b[0m\u001b[1;33m)\u001b[0m\u001b[1;33m:\u001b[0m\u001b[1;33m\u001b[0m\u001b[0m\n\u001b[1;32m--> 635\u001b[1;33m         \u001b[0mself\u001b[0m\u001b[1;33m.\u001b[0m\u001b[0m_event\u001b[0m\u001b[1;33m.\u001b[0m\u001b[0mwait\u001b[0m\u001b[1;33m(\u001b[0m\u001b[0mtimeout\u001b[0m\u001b[1;33m)\u001b[0m\u001b[1;33m\u001b[0m\u001b[0m\n\u001b[0m\u001b[0;32m    636\u001b[0m \u001b[1;33m\u001b[0m\u001b[0m\n\u001b[0;32m    637\u001b[0m     \u001b[1;32mdef\u001b[0m \u001b[0mget\u001b[0m\u001b[1;33m(\u001b[0m\u001b[0mself\u001b[0m\u001b[1;33m,\u001b[0m \u001b[0mtimeout\u001b[0m\u001b[1;33m=\u001b[0m\u001b[1;32mNone\u001b[0m\u001b[1;33m)\u001b[0m\u001b[1;33m:\u001b[0m\u001b[1;33m\u001b[0m\u001b[0m\n",
      "\u001b[1;32mD:\\Anaconda\\Anaconda_Download\\lib\\threading.py\u001b[0m in \u001b[0;36mwait\u001b[1;34m(self, timeout)\u001b[0m\n\u001b[0;32m    549\u001b[0m             \u001b[0msignaled\u001b[0m \u001b[1;33m=\u001b[0m \u001b[0mself\u001b[0m\u001b[1;33m.\u001b[0m\u001b[0m_flag\u001b[0m\u001b[1;33m\u001b[0m\u001b[0m\n\u001b[0;32m    550\u001b[0m             \u001b[1;32mif\u001b[0m \u001b[1;32mnot\u001b[0m \u001b[0msignaled\u001b[0m\u001b[1;33m:\u001b[0m\u001b[1;33m\u001b[0m\u001b[0m\n\u001b[1;32m--> 551\u001b[1;33m                 \u001b[0msignaled\u001b[0m \u001b[1;33m=\u001b[0m \u001b[0mself\u001b[0m\u001b[1;33m.\u001b[0m\u001b[0m_cond\u001b[0m\u001b[1;33m.\u001b[0m\u001b[0mwait\u001b[0m\u001b[1;33m(\u001b[0m\u001b[0mtimeout\u001b[0m\u001b[1;33m)\u001b[0m\u001b[1;33m\u001b[0m\u001b[0m\n\u001b[0m\u001b[0;32m    552\u001b[0m             \u001b[1;32mreturn\u001b[0m \u001b[0msignaled\u001b[0m\u001b[1;33m\u001b[0m\u001b[0m\n\u001b[0;32m    553\u001b[0m \u001b[1;33m\u001b[0m\u001b[0m\n",
      "\u001b[1;32mD:\\Anaconda\\Anaconda_Download\\lib\\threading.py\u001b[0m in \u001b[0;36mwait\u001b[1;34m(self, timeout)\u001b[0m\n\u001b[0;32m    293\u001b[0m         \u001b[1;32mtry\u001b[0m\u001b[1;33m:\u001b[0m    \u001b[1;31m# restore state no matter what (e.g., KeyboardInterrupt)\u001b[0m\u001b[1;33m\u001b[0m\u001b[0m\n\u001b[0;32m    294\u001b[0m             \u001b[1;32mif\u001b[0m \u001b[0mtimeout\u001b[0m \u001b[1;32mis\u001b[0m \u001b[1;32mNone\u001b[0m\u001b[1;33m:\u001b[0m\u001b[1;33m\u001b[0m\u001b[0m\n\u001b[1;32m--> 295\u001b[1;33m                 \u001b[0mwaiter\u001b[0m\u001b[1;33m.\u001b[0m\u001b[0macquire\u001b[0m\u001b[1;33m(\u001b[0m\u001b[1;33m)\u001b[0m\u001b[1;33m\u001b[0m\u001b[0m\n\u001b[0m\u001b[0;32m    296\u001b[0m                 \u001b[0mgotit\u001b[0m \u001b[1;33m=\u001b[0m \u001b[1;32mTrue\u001b[0m\u001b[1;33m\u001b[0m\u001b[0m\n\u001b[0;32m    297\u001b[0m             \u001b[1;32melse\u001b[0m\u001b[1;33m:\u001b[0m\u001b[1;33m\u001b[0m\u001b[0m\n",
      "\u001b[1;31mKeyboardInterrupt\u001b[0m: "
     ]
    }
   ],
   "source": [
    "clf2 = GridSearchCV(estimator=forest_gs, param_grid=dict(n_estimators=n_trees), \n",
    "                   cv=5, n_jobs=-1, return_train_score=True)\n",
    "clf2.fit(X_train, y_train)"
   ]
  },
  {
   "cell_type": "code",
   "execution_count": 40,
   "metadata": {},
   "outputs": [
    {
     "data": {
      "text/plain": [
       "{'n_estimators': 190}"
      ]
     },
     "execution_count": 40,
     "metadata": {},
     "output_type": "execute_result"
    }
   ],
   "source": [
    "clf2.best_params_"
   ]
  },
  {
   "cell_type": "code",
   "execution_count": 41,
   "metadata": {},
   "outputs": [
    {
     "data": {
      "text/plain": [
       "{'mean_fit_time': array([ 0.79266024,  2.61465702,  4.22016525,  6.04094701,  7.17489071,\n",
       "         9.27405567,  9.80590858, 11.7384182 , 14.89979043, 19.9608151 ]),\n",
       " 'std_fit_time': array([0.02584526, 0.11284201, 0.16828965, 0.24134844, 0.24272632,\n",
       "        0.58488471, 0.1494    , 0.27435659, 0.61085688, 2.14595261]),\n",
       " 'mean_score_time': array([0.01794701, 0.06662512, 0.0794838 , 0.1197957 , 0.14829288,\n",
       "        0.17516379, 0.19906864, 0.24536271, 0.32465467, 0.36069613]),\n",
       " 'std_score_time': array([0.00114071, 0.01146537, 0.00193123, 0.01620355, 0.02235753,\n",
       "        0.01721246, 0.00603319, 0.02469827, 0.05408652, 0.22018896]),\n",
       " 'param_n_estimators': masked_array(data=[10, 30, 50, 70, 90, 110, 130, 150, 170, 190],\n",
       "              mask=[False, False, False, False, False, False, False, False,\n",
       "                    False, False],\n",
       "        fill_value='?',\n",
       "             dtype=object),\n",
       " 'params': [{'n_estimators': 10},\n",
       "  {'n_estimators': 30},\n",
       "  {'n_estimators': 50},\n",
       "  {'n_estimators': 70},\n",
       "  {'n_estimators': 90},\n",
       "  {'n_estimators': 110},\n",
       "  {'n_estimators': 130},\n",
       "  {'n_estimators': 150},\n",
       "  {'n_estimators': 170},\n",
       "  {'n_estimators': 190}],\n",
       " 'split0_test_score': array([0.94581519, 0.95420094, 0.95452346, 0.95355588, 0.95581358,\n",
       "        0.95387841, 0.95081438, 0.95565231, 0.95355588, 0.9543622 ]),\n",
       " 'split1_test_score': array([0.94452508, 0.95194323, 0.94839542, 0.95162071, 0.95065312,\n",
       "        0.95468473, 0.95162071, 0.95371714, 0.95258829, 0.95452346]),\n",
       " 'split2_test_score': array([0.94436381, 0.95581358, 0.95339461, 0.95694243, 0.95645864,\n",
       "        0.95565231, 0.95565231, 0.95758749, 0.95791001, 0.95774875]),\n",
       " 'split3_test_score': array([0.94806452, 0.95322581, 0.95403226, 0.95693548, 0.95629032,\n",
       "        0.95677419, 0.95822581, 0.95790323, 0.95741935, 0.95935484]),\n",
       " 'split4_test_score': array([0.95192773, 0.95370221, 0.95821907, 0.95773512, 0.9566059 ,\n",
       "        0.95838038, 0.96063881, 0.95838038, 0.95902565, 0.96015486]),\n",
       " 'mean_test_score': array([0.94693891, 0.95377718, 0.95371266, 0.95535772, 0.95516418,\n",
       "        0.95587381, 0.95538997, 0.95664796, 0.95609961, 0.95722857]),\n",
       " 'std_test_score': array([0.00282388, 0.00126493, 0.00314451, 0.00236072, 0.00227136,\n",
       "        0.00158349, 0.00376301, 0.00173441, 0.00254484, 0.00240365]),\n",
       " 'rank_test_score': array([10,  8,  9,  6,  7,  4,  5,  2,  3,  1], dtype=int32),\n",
       " 'split0_train_score': array([0.9957663 , 0.99971775, 0.99987904, 1.        , 1.        ,\n",
       "        1.        , 1.        , 1.        , 1.        , 1.        ]),\n",
       " 'split1_train_score': array([0.99612919, 0.99975807, 0.99991936, 0.99991936, 1.        ,\n",
       "        1.        , 1.        , 1.        , 1.        , 1.        ]),\n",
       " 'split2_train_score': array([0.99572598, 0.99971775, 0.99995968, 1.        , 1.        ,\n",
       "        1.        , 1.        , 1.        , 1.        , 1.        ]),\n",
       " 'split3_train_score': array([0.99576647, 0.99963713, 0.99991936, 0.99995968, 1.        ,\n",
       "        1.        , 1.        , 1.        , 1.        , 1.        ]),\n",
       " 'split4_train_score': array([0.99592791, 0.99955651, 0.99991936, 1.        , 0.99995968,\n",
       "        1.        , 1.        , 1.        , 1.        , 1.        ]),\n",
       " 'mean_train_score': array([0.99586317, 0.99967744, 0.99991936, 0.99997581, 0.99999194,\n",
       "        1.        , 1.        , 1.        , 1.        , 1.        ]),\n",
       " 'std_train_score': array([1.50008902e-04, 7.21146852e-05, 2.55012111e-05, 3.22566013e-05,\n",
       "        1.61270814e-05, 0.00000000e+00, 0.00000000e+00, 0.00000000e+00,\n",
       "        0.00000000e+00, 0.00000000e+00])}"
      ]
     },
     "execution_count": 41,
     "metadata": {},
     "output_type": "execute_result"
    }
   ],
   "source": [
    "clf2.cv_results_"
   ]
  }
 ],
 "metadata": {
  "kernelspec": {
   "display_name": "Python 3",
   "language": "python",
   "name": "python3"
  },
  "language_info": {
   "codemirror_mode": {
    "name": "ipython",
    "version": 3
   },
   "file_extension": ".py",
   "mimetype": "text/x-python",
   "name": "python",
   "nbconvert_exporter": "python",
   "pygments_lexer": "ipython3",
   "version": "3.6.4"
  }
 },
 "nbformat": 4,
 "nbformat_minor": 2
}
