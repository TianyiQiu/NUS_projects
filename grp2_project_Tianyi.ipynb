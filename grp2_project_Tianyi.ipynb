{
 "cells": [
  {
   "cell_type": "markdown",
   "metadata": {},
   "source": [
    "In this data sample, it should be noticed that there are few \"true\" numerical values.\n",
    "For instance, though variable like \"1st_Road_Number\" is numerical, I cannot input it directly, because there is no intrinsic \"increasing trend\" in this road code; instead, it just represent different roads.\n",
    "Actually, many of the variables in this data sample has the same problem, so I managed to transfer them into categories."
   ]
  },
  {
   "cell_type": "code",
   "execution_count": 1,
   "metadata": {},
   "outputs": [
    {
     "name": "stderr",
     "output_type": "stream",
     "text": [
      "D:\\Anaconda\\Anaconda_Download\\lib\\site-packages\\h5py\\__init__.py:36: FutureWarning: Conversion of the second argument of issubdtype from `float` to `np.floating` is deprecated. In future, it will be treated as `np.float64 == np.dtype(float).type`.\n",
      "  from ._conv import register_converters as _register_converters\n"
     ]
    }
   ],
   "source": [
    "import pandas as pd\n",
    "import numpy as np\n",
    "import matplotlib.pyplot as plt\n",
    "import scipy.stats as stats\n",
    "import time,datetime\n",
    "\n",
    "\n",
    "from pandas.plotting import scatter_matrix\n",
    "from sklearn.linear_model import LinearRegression, Lasso, LogisticRegression\n",
    "from sklearn import metrics, datasets, preprocessing\n",
    "\n",
    "import matplotlib.pyplot as plt\n",
    "from pandas.plotting import scatter_matrix\n",
    "\n",
    "from sklearn.linear_model import LinearRegression, Lasso, LogisticRegression\n",
    "from sklearn import metrics, datasets, preprocessing\n",
    "from sklearn.model_selection import StratifiedShuffleSplit,ShuffleSplit\n",
    "from sklearn.pipeline import Pipeline, make_pipeline, FeatureUnion, make_union\n",
    "\n",
    "import scipy.stats as stats\n",
    "\n",
    "from sklearn.model_selection import train_test_split\n",
    "from sklearn import preprocessing, svm\n",
    "from sklearn.pipeline import Pipeline, make_pipeline, FeatureUnion, make_union\n",
    "from sklearn.feature_extraction import DictVectorizer\n",
    "from sklearn.ensemble import RandomForestClassifier\n",
    "from sklearn.model_selection import StratifiedKFold, KFold, cross_val_score\n",
    "from sklearn.feature_selection import SelectKBest, chi2, f_regression, RFE, SelectFromModel\n",
    "from sklearn.model_selection import GridSearchCV\n",
    "from sklearn import linear_model, datasets\n",
    "from sklearn.preprocessing import OneHotEncoder\n",
    "\n",
    "import sklearn\n",
    "import talib\n",
    "import talib as tb\n",
    "import tensorflow as tf\n",
    "import matplotlib.pyplot as plt\n",
    "\n",
    "from matplotlib import pyplot as plt\n",
    "from matplotlib.colors import ListedColormap\n",
    "from sklearn.model_selection import train_test_split\n",
    "from sklearn.preprocessing import StandardScaler\n",
    "from sklearn.datasets import make_moons, make_circles, make_classification\n",
    "from sklearn.neural_network import MLPClassifier\n",
    "from sklearn.neural_network import MLPClassifier\n",
    "from sklearn.metrics import accuracy_score\n",
    "\n",
    "import numpy as np\n",
    "import pandas as pd\n",
    "import matplotlib.pyplot as plt\n",
    "from pandas.plotting import scatter_matrix\n",
    "\n",
    "from sklearn.linear_model import LinearRegression, Lasso, LogisticRegression\n",
    "from sklearn import metrics, datasets, preprocessing\n",
    "from sklearn.model_selection import StratifiedShuffleSplit,ShuffleSplit\n",
    "from sklearn.pipeline import Pipeline, make_pipeline, FeatureUnion, make_union\n",
    "\n",
    "\n",
    "import scipy.stats as stats\n",
    "import math\n",
    "\n",
    "from sklearn.model_selection import train_test_split\n",
    "from sklearn import preprocessing, svm\n",
    "from sklearn.pipeline import Pipeline, make_pipeline, FeatureUnion, make_union\n",
    "from sklearn.feature_extraction import DictVectorizer\n",
    "from sklearn.ensemble import RandomForestClassifier\n",
    "from sklearn.model_selection import StratifiedKFold, KFold, cross_val_score\n",
    "from sklearn.feature_selection import SelectKBest, chi2, f_regression, RFE, SelectFromModel\n",
    "from sklearn.model_selection import GridSearchCV\n",
    "from sklearn import linear_model, datasets\n"
   ]
  },
  {
   "cell_type": "code",
   "execution_count": 2,
   "metadata": {},
   "outputs": [
    {
     "name": "stderr",
     "output_type": "stream",
     "text": [
      "D:\\Anaconda\\Anaconda_Download\\lib\\site-packages\\IPython\\core\\interactiveshell.py:2728: DtypeWarning: Columns (31) have mixed types. Specify dtype option on import or set low_memory=False.\n",
      "  interactivity=interactivity, compiler=compiler, result=result)\n"
     ]
    }
   ],
   "source": [
    "acc = pd.read_csv('data/accidents_2005_to_2007.csv', header=0)"
   ]
  },
  {
   "cell_type": "code",
   "execution_count": 3,
   "metadata": {},
   "outputs": [
    {
     "name": "stdout",
     "output_type": "stream",
     "text": [
      "<class 'pandas.core.frame.DataFrame'>\n",
      "RangeIndex: 570011 entries, 0 to 570010\n",
      "Data columns (total 33 columns):\n",
      "Accident_Index                                 570011 non-null object\n",
      "Location_Easting_OSGR                          569910 non-null float64\n",
      "Location_Northing_OSGR                         569910 non-null float64\n",
      "Longitude                                      569910 non-null float64\n",
      "Latitude                                       569910 non-null float64\n",
      "Police_Force                                   570011 non-null int64\n",
      "Accident_Severity                              570011 non-null int64\n",
      "Number_of_Vehicles                             570011 non-null int64\n",
      "Number_of_Casualties                           570011 non-null int64\n",
      "Date                                           570011 non-null object\n",
      "Day_of_Week                                    570011 non-null int64\n",
      "Time                                           569944 non-null object\n",
      "Local_Authority_(District)                     570011 non-null int64\n",
      "Local_Authority_(Highway)                      570011 non-null object\n",
      "1st_Road_Class                                 570011 non-null int64\n",
      "1st_Road_Number                                570011 non-null int64\n",
      "Road_Type                                      570011 non-null object\n",
      "Speed_limit                                    570011 non-null int64\n",
      "Junction_Detail                                0 non-null float64\n",
      "Junction_Control                               333066 non-null object\n",
      "2nd_Road_Class                                 570011 non-null int64\n",
      "2nd_Road_Number                                570011 non-null int64\n",
      "Pedestrian_Crossing-Human_Control              569994 non-null object\n",
      "Pedestrian_Crossing-Physical_Facilities        569977 non-null object\n",
      "Light_Conditions                               570011 non-null object\n",
      "Weather_Conditions                             569991 non-null object\n",
      "Road_Surface_Conditions                        569349 non-null object\n",
      "Special_Conditions_at_Site                     570000 non-null object\n",
      "Carriageway_Hazards                            569988 non-null object\n",
      "Urban_or_Rural_Area                            570011 non-null int64\n",
      "Did_Police_Officer_Attend_Scene_of_Accident    567636 non-null object\n",
      "LSOA_of_Accident_Location                      522500 non-null object\n",
      "Year                                           570011 non-null int64\n",
      "dtypes: float64(5), int64(13), object(15)\n",
      "memory usage: 143.5+ MB\n"
     ]
    }
   ],
   "source": [
    "acc.info()"
   ]
  },
  {
   "cell_type": "code",
   "execution_count": 4,
   "metadata": {},
   "outputs": [],
   "source": [
    "# X = acc.dropna(axis = 1, how = 'any')"
   ]
  },
  {
   "cell_type": "code",
   "execution_count": 5,
   "metadata": {},
   "outputs": [],
   "source": [
    "# This may lead to inaccuracy in prediction. \n",
    "# However, the missing values only account for a little part of the data. \n",
    "# Note that there is no missing value in responsive variable. \n",
    "acc=acc.fillna(0)"
   ]
  },
  {
   "cell_type": "code",
   "execution_count": 6,
   "metadata": {
    "scrolled": true
   },
   "outputs": [
    {
     "name": "stdout",
     "output_type": "stream",
     "text": [
      "<class 'pandas.core.frame.DataFrame'>\n",
      "RangeIndex: 570011 entries, 0 to 570010\n",
      "Data columns (total 33 columns):\n",
      "Accident_Index                                 570011 non-null object\n",
      "Location_Easting_OSGR                          570011 non-null float64\n",
      "Location_Northing_OSGR                         570011 non-null float64\n",
      "Longitude                                      570011 non-null float64\n",
      "Latitude                                       570011 non-null float64\n",
      "Police_Force                                   570011 non-null int64\n",
      "Accident_Severity                              570011 non-null int64\n",
      "Number_of_Vehicles                             570011 non-null int64\n",
      "Number_of_Casualties                           570011 non-null int64\n",
      "Date                                           570011 non-null object\n",
      "Day_of_Week                                    570011 non-null int64\n",
      "Time                                           570011 non-null object\n",
      "Local_Authority_(District)                     570011 non-null int64\n",
      "Local_Authority_(Highway)                      570011 non-null object\n",
      "1st_Road_Class                                 570011 non-null int64\n",
      "1st_Road_Number                                570011 non-null int64\n",
      "Road_Type                                      570011 non-null object\n",
      "Speed_limit                                    570011 non-null int64\n",
      "Junction_Detail                                570011 non-null float64\n",
      "Junction_Control                               570011 non-null object\n",
      "2nd_Road_Class                                 570011 non-null int64\n",
      "2nd_Road_Number                                570011 non-null int64\n",
      "Pedestrian_Crossing-Human_Control              570011 non-null object\n",
      "Pedestrian_Crossing-Physical_Facilities        570011 non-null object\n",
      "Light_Conditions                               570011 non-null object\n",
      "Weather_Conditions                             570011 non-null object\n",
      "Road_Surface_Conditions                        570011 non-null object\n",
      "Special_Conditions_at_Site                     570011 non-null object\n",
      "Carriageway_Hazards                            570011 non-null object\n",
      "Urban_or_Rural_Area                            570011 non-null int64\n",
      "Did_Police_Officer_Attend_Scene_of_Accident    570011 non-null object\n",
      "LSOA_of_Accident_Location                      570011 non-null object\n",
      "Year                                           570011 non-null int64\n",
      "dtypes: float64(5), int64(13), object(15)\n",
      "memory usage: 143.5+ MB\n"
     ]
    }
   ],
   "source": [
    "acc.info()"
   ]
  },
  {
   "cell_type": "code",
   "execution_count": 7,
   "metadata": {},
   "outputs": [
    {
     "data": {
      "text/plain": [
       "array([1, 2, 3], dtype=int64)"
      ]
     },
     "execution_count": 7,
     "metadata": {},
     "output_type": "execute_result"
    }
   ],
   "source": [
    "# the data to predict is severely unbalanced.\n",
    "np.unique(acc[\"Accident_Severity\"])"
   ]
  },
  {
   "cell_type": "code",
   "execution_count": 8,
   "metadata": {},
   "outputs": [
    {
     "data": {
      "text/plain": [
       "array([1, 2, 3, 4, 5, 6], dtype=int64)"
      ]
     },
     "execution_count": 8,
     "metadata": {},
     "output_type": "execute_result"
    }
   ],
   "source": [
    "np.unique(acc[\"1st_Road_Class\"])"
   ]
  },
  {
   "cell_type": "code",
   "execution_count": 9,
   "metadata": {},
   "outputs": [
    {
     "data": {
      "text/plain": [
       "3    487161\n",
       "2     74297\n",
       "1      8553\n",
       "Name: Accident_Severity, dtype: int64"
      ]
     },
     "execution_count": 9,
     "metadata": {},
     "output_type": "execute_result"
    }
   ],
   "source": [
    "acc.Accident_Severity.value_counts()"
   ]
  },
  {
   "cell_type": "code",
   "execution_count": 10,
   "metadata": {
    "scrolled": true
   },
   "outputs": [
    {
     "data": {
      "text/plain": [
       "1     432213\n",
       "2      95218\n",
       "3      26860\n",
       "4       9718\n",
       "5       3685\n",
       "6       1382\n",
       "7        459\n",
       "8        201\n",
       "9         98\n",
       "10        45\n",
       "11        33\n",
       "13        17\n",
       "12        11\n",
       "14        10\n",
       "15         9\n",
       "16         7\n",
       "22         7\n",
       "17         6\n",
       "19         5\n",
       "18         4\n",
       "29         4\n",
       "20         3\n",
       "23         3\n",
       "26         3\n",
       "45         1\n",
       "21         1\n",
       "25         1\n",
       "28         1\n",
       "35         1\n",
       "36         1\n",
       "40         1\n",
       "41         1\n",
       "42         1\n",
       "68         1\n",
       "Name: Number_of_Casualties, dtype: int64"
      ]
     },
     "execution_count": 10,
     "metadata": {},
     "output_type": "execute_result"
    }
   ],
   "source": [
    "acc.Number_of_Casualties.value_counts()"
   ]
  },
  {
   "cell_type": "code",
   "execution_count": 11,
   "metadata": {},
   "outputs": [
    {
     "data": {
      "text/plain": [
       "0    432213\n",
       "1    137798\n",
       "Name: casualties, dtype: int64"
      ]
     },
     "execution_count": 11,
     "metadata": {},
     "output_type": "execute_result"
    }
   ],
   "source": [
    "acc['casualties']= np.where (acc.Number_of_Casualties >1, 1, 0)\n",
    "acc.casualties.value_counts()"
   ]
  },
  {
   "cell_type": "code",
   "execution_count": 12,
   "metadata": {},
   "outputs": [
    {
     "data": {
      "text/plain": [
       "1    561458\n",
       "0      8553\n",
       "Name: severity, dtype: int64"
      ]
     },
     "execution_count": 12,
     "metadata": {},
     "output_type": "execute_result"
    }
   ],
   "source": [
    "acc['severity']= np.where (acc.Accident_Severity >1, 1, 0)\n",
    "acc.severity.value_counts()"
   ]
  },
  {
   "cell_type": "code",
   "execution_count": 13,
   "metadata": {},
   "outputs": [],
   "source": [
    "# Note that the format of date is not YY-MM-DD.\n",
    "acc[\"Date\"] =pd.to_datetime(acc['Date'], format=\"%d/%m/%Y\")\n",
    "#acc.set_index('Date', inplace=True)"
   ]
  },
  {
   "cell_type": "code",
   "execution_count": 14,
   "metadata": {},
   "outputs": [],
   "source": [
    "# Consider the season as the dummy variable in the Regression.\n",
    "winter_mask = ((acc['Date']>='2004-12-01') & (acc['Date']<='2005-02-28')) | ((acc['Date']>='2005-12-01') & (acc['Date']<='2006-02-28')) | ((acc['Date']>='2006-12-01') & (acc['Date']<='2007-02-28')) | ((acc['Date']>='2007-12-01') & (acc['Date']<='2008-02-29'))\n",
    "spring_mask = ((acc['Date']>='2005-03-01') & (acc['Date']<='2005-05-31')) | ((acc['Date']>='2006-03-01') & (acc['Date']<='2006-05-31')) | ((acc['Date']>='2007-03-01') & (acc['Date']<='2007-05-31')) | ((acc['Date']>='2008-03-01') & (acc['Date']<='2008-05-31'))\n",
    "summer_mask = ((acc['Date']>='2005-06-01') & (acc['Date']<='2005-08-31')) | ((acc['Date']>='2006-06-01') & (acc['Date']<='2006-08-31')) | ((acc['Date']>='2007-06-01') & (acc['Date']<='2007-08-31')) | ((acc['Date']>='2008-06-01') & (acc['Date']<='2008-08-31'))\n",
    "autumn_mask = ((acc['Date']>='2005-09-01') & (acc['Date']<='2005-11-30')) | ((acc['Date']>='2006-09-01') & (acc['Date']<='2006-11-30')) | ((acc['Date']>='2007-09-01') & (acc['Date']<='2007-11-30')) | ((acc['Date']>='2008-09-01') & (acc['Date']<='2008-11-30'))"
   ]
  },
  {
   "cell_type": "code",
   "execution_count": 15,
   "metadata": {},
   "outputs": [],
   "source": [
    "acc[\"season\"]=np.zeros(acc.shape[0])\n",
    "acc.loc[spring_mask, 'season'] = 'spring'\n",
    "acc.loc[summer_mask, 'season'] = 'summer'\n",
    "acc.loc[autumn_mask, 'season'] = 'autumn'\n",
    "acc.loc[winter_mask, 'season'] = 'winter'"
   ]
  },
  {
   "cell_type": "code",
   "execution_count": 16,
   "metadata": {},
   "outputs": [],
   "source": [
    "#tmp = pd.DataFrame({'acc':Road_Type}).to_dict(orient='records')\n",
    "#bb = DictVectorizer(sparse=False)\n",
    "#X = bb.fit_transform(tmp)"
   ]
  },
  {
   "cell_type": "code",
   "execution_count": 17,
   "metadata": {
    "scrolled": true
   },
   "outputs": [],
   "source": [
    "tmp = acc[['Road_Type','Weather_Conditions','Did_Police_Officer_Attend_Scene_of_Accident',\n",
    "           'Road_Surface_Conditions','Light_Conditions','Urban_or_Rural_Area','Speed_limit',\n",
    "           'season']].to_dict(orient='records')\n",
    "bb = DictVectorizer(sparse=False)\n",
    "X = bb.fit_transform(tmp)"
   ]
  },
  {
   "cell_type": "code",
   "execution_count": 18,
   "metadata": {
    "scrolled": true
   },
   "outputs": [
    {
     "data": {
      "text/plain": [
       "['Did_Police_Officer_Attend_Scene_of_Accident',\n",
       " 'Did_Police_Officer_Attend_Scene_of_Accident=No',\n",
       " 'Did_Police_Officer_Attend_Scene_of_Accident=Yes',\n",
       " 'Light_Conditions=Darkeness: No street lighting',\n",
       " 'Light_Conditions=Darkness: Street lighting unknown',\n",
       " 'Light_Conditions=Darkness: Street lights present and lit',\n",
       " 'Light_Conditions=Darkness: Street lights present but unlit',\n",
       " 'Light_Conditions=Daylight: Street light present',\n",
       " 'Road_Surface_Conditions',\n",
       " 'Road_Surface_Conditions=Dry',\n",
       " 'Road_Surface_Conditions=Flood (Over 3cm of water)',\n",
       " 'Road_Surface_Conditions=Frost/Ice',\n",
       " 'Road_Surface_Conditions=Snow',\n",
       " 'Road_Surface_Conditions=Wet/Damp',\n",
       " 'Road_Type=Dual carriageway',\n",
       " 'Road_Type=One way street',\n",
       " 'Road_Type=Roundabout',\n",
       " 'Road_Type=Single carriageway',\n",
       " 'Road_Type=Slip road',\n",
       " 'Road_Type=Unknown',\n",
       " 'Speed_limit',\n",
       " 'Urban_or_Rural_Area',\n",
       " 'Weather_Conditions',\n",
       " 'Weather_Conditions=Fine with high winds',\n",
       " 'Weather_Conditions=Fine without high winds',\n",
       " 'Weather_Conditions=Fog or mist',\n",
       " 'Weather_Conditions=Other',\n",
       " 'Weather_Conditions=Raining with high winds',\n",
       " 'Weather_Conditions=Raining without high winds',\n",
       " 'Weather_Conditions=Snowing with high winds',\n",
       " 'Weather_Conditions=Snowing without high winds',\n",
       " 'Weather_Conditions=Unknown',\n",
       " 'season=autumn',\n",
       " 'season=spring',\n",
       " 'season=summer',\n",
       " 'season=winter']"
      ]
     },
     "execution_count": 18,
     "metadata": {},
     "output_type": "execute_result"
    }
   ],
   "source": [
    "bb.feature_names_"
   ]
  },
  {
   "cell_type": "code",
   "execution_count": 19,
   "metadata": {
    "scrolled": true
   },
   "outputs": [
    {
     "data": {
      "text/plain": [
       "array([[0., 0., 1., ..., 0., 0., 1.],\n",
       "       [0., 0., 1., ..., 0., 0., 1.],\n",
       "       [0., 0., 1., ..., 0., 0., 1.],\n",
       "       ...,\n",
       "       [0., 0., 1., ..., 0., 0., 1.],\n",
       "       [0., 1., 0., ..., 0., 0., 1.],\n",
       "       [0., 0., 1., ..., 0., 0., 1.]])"
      ]
     },
     "execution_count": 19,
     "metadata": {},
     "output_type": "execute_result"
    }
   ],
   "source": [
    "X"
   ]
  },
  {
   "cell_type": "code",
   "execution_count": 20,
   "metadata": {},
   "outputs": [
    {
     "data": {
      "text/plain": [
       "False"
      ]
     },
     "execution_count": 20,
     "metadata": {},
     "output_type": "execute_result"
    }
   ],
   "source": [
    "np.isnan(X).any()"
   ]
  },
  {
   "cell_type": "code",
   "execution_count": 21,
   "metadata": {
    "scrolled": true
   },
   "outputs": [
    {
     "data": {
      "text/html": [
       "<div>\n",
       "<style scoped>\n",
       "    .dataframe tbody tr th:only-of-type {\n",
       "        vertical-align: middle;\n",
       "    }\n",
       "\n",
       "    .dataframe tbody tr th {\n",
       "        vertical-align: top;\n",
       "    }\n",
       "\n",
       "    .dataframe thead th {\n",
       "        text-align: right;\n",
       "    }\n",
       "</style>\n",
       "<table border=\"1\" class=\"dataframe\">\n",
       "  <thead>\n",
       "    <tr style=\"text-align: right;\">\n",
       "      <th>col_0</th>\n",
       "      <th>0.0</th>\n",
       "      <th>1.0</th>\n",
       "    </tr>\n",
       "    <tr>\n",
       "      <th>Accident_Severity</th>\n",
       "      <th></th>\n",
       "      <th></th>\n",
       "    </tr>\n",
       "  </thead>\n",
       "  <tbody>\n",
       "    <tr>\n",
       "      <th>1</th>\n",
       "      <td>6398</td>\n",
       "      <td>2155</td>\n",
       "    </tr>\n",
       "    <tr>\n",
       "      <th>2</th>\n",
       "      <td>54464</td>\n",
       "      <td>19833</td>\n",
       "    </tr>\n",
       "    <tr>\n",
       "      <th>3</th>\n",
       "      <td>364545</td>\n",
       "      <td>122616</td>\n",
       "    </tr>\n",
       "  </tbody>\n",
       "</table>\n",
       "</div>"
      ],
      "text/plain": [
       "col_0                 0.0     1.0\n",
       "Accident_Severity                \n",
       "1                    6398    2155\n",
       "2                   54464   19833\n",
       "3                  364545  122616"
      ]
     },
     "execution_count": 21,
     "metadata": {},
     "output_type": "execute_result"
    }
   ],
   "source": [
    "pd.crosstab(columns=X[:, -2], index=acc.Accident_Severity)"
   ]
  },
  {
   "cell_type": "code",
   "execution_count": 22,
   "metadata": {},
   "outputs": [
    {
     "name": "stdout",
     "output_type": "stream",
     "text": [
      "The p-value of the test is 0.00000.\n"
     ]
    }
   ],
   "source": [
    "table1 = pd.crosstab(columns=X[:, -2], index=acc.Accident_Severity)\n",
    "_,p_val,dof,exp = stats.chi2_contingency(table1, correction=True)\n",
    "print('The p-value of the test is {:.5f}.'.format(np.round(p_val, 3)))\n",
    "# There is significant connection between the seasons and Accident Severity."
   ]
  },
  {
   "cell_type": "code",
   "execution_count": 23,
   "metadata": {},
   "outputs": [
    {
     "data": {
      "text/html": [
       "<div>\n",
       "<style scoped>\n",
       "    .dataframe tbody tr th:only-of-type {\n",
       "        vertical-align: middle;\n",
       "    }\n",
       "\n",
       "    .dataframe tbody tr th {\n",
       "        vertical-align: top;\n",
       "    }\n",
       "\n",
       "    .dataframe thead th {\n",
       "        text-align: right;\n",
       "    }\n",
       "</style>\n",
       "<table border=\"1\" class=\"dataframe\">\n",
       "  <thead>\n",
       "    <tr style=\"text-align: right;\">\n",
       "      <th>col_0</th>\n",
       "      <th>0.0</th>\n",
       "      <th>1.0</th>\n",
       "    </tr>\n",
       "    <tr>\n",
       "      <th>Accident_Severity</th>\n",
       "      <th></th>\n",
       "      <th></th>\n",
       "    </tr>\n",
       "  </thead>\n",
       "  <tbody>\n",
       "    <tr>\n",
       "      <th>1</th>\n",
       "      <td>2834</td>\n",
       "      <td>5719</td>\n",
       "    </tr>\n",
       "    <tr>\n",
       "      <th>2</th>\n",
       "      <td>22526</td>\n",
       "      <td>51771</td>\n",
       "    </tr>\n",
       "    <tr>\n",
       "      <th>3</th>\n",
       "      <td>154754</td>\n",
       "      <td>332407</td>\n",
       "    </tr>\n",
       "  </tbody>\n",
       "</table>\n",
       "</div>"
      ],
      "text/plain": [
       "col_0                 0.0     1.0\n",
       "Accident_Severity                \n",
       "1                    2834    5719\n",
       "2                   22526   51771\n",
       "3                  154754  332407"
      ]
     },
     "execution_count": 23,
     "metadata": {},
     "output_type": "execute_result"
    }
   ],
   "source": [
    "pd.crosstab(columns=X[:, 9], index=acc.Accident_Severity)"
   ]
  },
  {
   "cell_type": "code",
   "execution_count": 24,
   "metadata": {},
   "outputs": [
    {
     "name": "stdout",
     "output_type": "stream",
     "text": [
      "The p-value of the test is 0.00000.\n"
     ]
    }
   ],
   "source": [
    "table2 = pd.crosstab(columns=X[:, 9], index=acc.Accident_Severity)\n",
    "_,p_val,dof,exp = stats.chi2_contingency(table2, correction=True)\n",
    "print('The p-value of the test is {:.5f}.'.format(np.round(p_val, 3)))"
   ]
  },
  {
   "cell_type": "code",
   "execution_count": 25,
   "metadata": {},
   "outputs": [],
   "source": [
    "y1 = acc.loc[:,['Accident_Severity']]"
   ]
  },
  {
   "cell_type": "code",
   "execution_count": 26,
   "metadata": {},
   "outputs": [],
   "source": [
    "y2 = acc.loc[:,['Number_of_Casualties']]"
   ]
  },
  {
   "cell_type": "code",
   "execution_count": 27,
   "metadata": {},
   "outputs": [],
   "source": [
    "y3 = acc.casualties"
   ]
  },
  {
   "cell_type": "code",
   "execution_count": 28,
   "metadata": {},
   "outputs": [],
   "source": [
    "train_x, test_x, train_y, test_y = train_test_split(X, y3, test_size = 0.3)"
   ]
  },
  {
   "cell_type": "code",
   "execution_count": 29,
   "metadata": {},
   "outputs": [],
   "source": [
    "scaler = StandardScaler()  \n",
    "# fit only on training data\n",
    "scaler.fit(train_x)  \n",
    "train_x = scaler.transform(train_x)  \n",
    "# apply same transformation to test data\n",
    "test_x = scaler.transform(test_x)  "
   ]
  },
  {
   "cell_type": "code",
   "execution_count": 30,
   "metadata": {},
   "outputs": [
    {
     "name": "stdout",
     "output_type": "stream",
     "text": [
      "[LibLinear]"
     ]
    },
    {
     "data": {
      "text/plain": [
       "LogisticRegression(C=1.0, class_weight=None, dual=False, fit_intercept=True,\n",
       "          intercept_scaling=1, max_iter=100, multi_class='ovr', n_jobs=1,\n",
       "          penalty='l2', random_state=None, solver='liblinear', tol=0.0001,\n",
       "          verbose=2, warm_start=False)"
      ]
     },
     "execution_count": 30,
     "metadata": {},
     "output_type": "execute_result"
    }
   ],
   "source": [
    "logreg = LogisticRegression(multi_class='ovr', solver='liblinear', verbose=2)\n",
    "logreg.fit(train_x, train_y.values.ravel())"
   ]
  },
  {
   "cell_type": "code",
   "execution_count": 31,
   "metadata": {},
   "outputs": [
    {
     "name": "stdout",
     "output_type": "stream",
     "text": [
      "The MSE and R2 are 0.24095928 and -0.31745237 respectively.\n",
      "0.7590407241935861\n"
     ]
    }
   ],
   "source": [
    "y_hat = logreg.predict(test_x)\n",
    "r2 = metrics.r2_score(test_y.values.ravel(),y_hat)\n",
    "mse = metrics.mean_squared_error(test_y.values.ravel(),y_hat)\n",
    "print('The MSE and R2 are',\n",
    "     '{:.8f} and {:.8f} respectively.'.format(mse, r2))\n",
    "print(logreg.score(test_x, test_y.values.ravel()))"
   ]
  },
  {
   "cell_type": "code",
   "execution_count": 32,
   "metadata": {},
   "outputs": [
    {
     "data": {
      "text/plain": [
       "array([0])"
      ]
     },
     "execution_count": 32,
     "metadata": {},
     "output_type": "execute_result"
    }
   ],
   "source": [
    "np.unique(y_hat)"
   ]
  },
  {
   "cell_type": "code",
   "execution_count": 33,
   "metadata": {},
   "outputs": [],
   "source": [
    "# neural_network\n",
    "# Multi-layer Perceptron classifier"
   ]
  },
  {
   "cell_type": "code",
   "execution_count": 34,
   "metadata": {},
   "outputs": [],
   "source": [
    "clf2 = MLPClassifier(solver='lbfgs', alpha=1000,\n",
    "                 hidden_layer_sizes=(12, 9), random_state=1)"
   ]
  },
  {
   "cell_type": "code",
   "execution_count": 35,
   "metadata": {
    "scrolled": true
   },
   "outputs": [
    {
     "data": {
      "text/plain": [
       "MLPClassifier(activation='relu', alpha=1000, batch_size='auto', beta_1=0.9,\n",
       "       beta_2=0.999, early_stopping=False, epsilon=1e-08,\n",
       "       hidden_layer_sizes=(12, 9), learning_rate='constant',\n",
       "       learning_rate_init=0.001, max_iter=200, momentum=0.9,\n",
       "       nesterovs_momentum=True, power_t=0.5, random_state=1, shuffle=True,\n",
       "       solver='lbfgs', tol=0.0001, validation_fraction=0.1, verbose=False,\n",
       "       warm_start=False)"
      ]
     },
     "execution_count": 35,
     "metadata": {},
     "output_type": "execute_result"
    }
   ],
   "source": [
    "clf2.fit(train_x, train_y.values.ravel())"
   ]
  },
  {
   "cell_type": "code",
   "execution_count": 36,
   "metadata": {},
   "outputs": [
    {
     "name": "stdout",
     "output_type": "stream",
     "text": [
      "0.7579165277802143 0.7590407241935861\n"
     ]
    }
   ],
   "source": [
    "pred1 = clf2.predict(train_x)\n",
    "pred2 = clf2.predict(test_x)\n",
    "print(accuracy_score(pred1, train_y.values.ravel()), accuracy_score(pred2, test_y.values.ravel()))"
   ]
  },
  {
   "cell_type": "code",
   "execution_count": 37,
   "metadata": {},
   "outputs": [
    {
     "data": {
      "text/plain": [
       "array([0])"
      ]
     },
     "execution_count": 37,
     "metadata": {},
     "output_type": "execute_result"
    }
   ],
   "source": [
    "np.unique(pred1)"
   ]
  },
  {
   "cell_type": "code",
   "execution_count": 38,
   "metadata": {},
   "outputs": [
    {
     "data": {
      "text/plain": [
       "array([0])"
      ]
     },
     "execution_count": 38,
     "metadata": {},
     "output_type": "execute_result"
    }
   ],
   "source": [
    "np.unique(pred2)"
   ]
  },
  {
   "cell_type": "code",
   "execution_count": 39,
   "metadata": {},
   "outputs": [],
   "source": [
    "# To see whether there is any problem with the model itself."
   ]
  },
  {
   "cell_type": "code",
   "execution_count": 40,
   "metadata": {},
   "outputs": [],
   "source": [
    "y0= X[:, 5]\n",
    "train_x, test_x, train_y0, test_y0 = train_test_split(X, y0, test_size = 0.3)\n",
    "scaler = StandardScaler()  \n",
    "# fit only on training data\n",
    "scaler.fit(train_x)  \n",
    "train_x = scaler.transform(train_x)  \n",
    "# apply same transformation to test data\n",
    "test_x = scaler.transform(test_x)  "
   ]
  },
  {
   "cell_type": "code",
   "execution_count": 41,
   "metadata": {},
   "outputs": [
    {
     "data": {
      "text/plain": [
       "MLPClassifier(activation='relu', alpha=1000, batch_size='auto', beta_1=0.9,\n",
       "       beta_2=0.999, early_stopping=False, epsilon=1e-08,\n",
       "       hidden_layer_sizes=(12, 9), learning_rate='constant',\n",
       "       learning_rate_init=0.001, max_iter=200, momentum=0.9,\n",
       "       nesterovs_momentum=True, power_t=0.5, random_state=1, shuffle=True,\n",
       "       solver='lbfgs', tol=0.0001, validation_fraction=0.1, verbose=False,\n",
       "       warm_start=False)"
      ]
     },
     "execution_count": 41,
     "metadata": {},
     "output_type": "execute_result"
    }
   ],
   "source": [
    "clf2.fit(train_x, train_y0)"
   ]
  },
  {
   "cell_type": "code",
   "execution_count": 42,
   "metadata": {},
   "outputs": [
    {
     "name": "stdout",
     "output_type": "stream",
     "text": [
      "1.0 1.0\n"
     ]
    }
   ],
   "source": [
    "pred1 = clf2.predict(train_x)\n",
    "pred2 = clf2.predict(test_x)\n",
    "print(accuracy_score(pred1, train_y0), accuracy_score(pred2, test_y0))"
   ]
  },
  {
   "cell_type": "code",
   "execution_count": 43,
   "metadata": {},
   "outputs": [],
   "source": [
    "# So the model itself is not wrong."
   ]
  },
  {
   "cell_type": "code",
   "execution_count": 44,
   "metadata": {},
   "outputs": [],
   "source": [
    "clf_selected = Pipeline([\n",
    "  #('feature_selection', SelectFromModel(LinearRegression())),\n",
    "  ('feature_selection', SelectFromModel(RandomForestClassifier())),\n",
    "])"
   ]
  },
  {
   "cell_type": "code",
   "execution_count": 45,
   "metadata": {},
   "outputs": [
    {
     "data": {
      "text/plain": [
       "array([[ 0.49124986,  1.99275155, -1.6287746 , ...,  1.31173453,\n",
       "        -0.56299893,  1.78446223],\n",
       "       [-2.035624  , -0.5018187 ,  0.61395849, ..., -0.76069176,\n",
       "        -0.56299893, -0.56039292],\n",
       "       [ 0.49124986, -0.5018187 ,  0.61395849, ..., -0.76069176,\n",
       "        -0.56299893, -0.56039292],\n",
       "       ...,\n",
       "       [ 0.49124986, -0.5018187 , -1.6287746 , ...,  1.31173453,\n",
       "        -0.56299893, -0.56039292],\n",
       "       [ 0.49124986, -0.5018187 ,  0.61395849, ...,  1.31173453,\n",
       "        -0.56299893, -0.56039292],\n",
       "       [ 0.49124986, -0.5018187 ,  0.61395849, ...,  1.31173453,\n",
       "         1.77620232, -0.56039292]])"
      ]
     },
     "execution_count": 45,
     "metadata": {},
     "output_type": "execute_result"
    }
   ],
   "source": [
    "clf_selected.fit(train_x, train_y)\n",
    "selected_train_x = clf_selected.transform(train_x)\n",
    "clf_selected.transform(train_x)"
   ]
  },
  {
   "cell_type": "code",
   "execution_count": 46,
   "metadata": {},
   "outputs": [
    {
     "data": {
      "text/plain": [
       "(399007, 9)"
      ]
     },
     "execution_count": 46,
     "metadata": {},
     "output_type": "execute_result"
    }
   ],
   "source": [
    "train_x.shape\n",
    "selected_train_x.shape"
   ]
  },
  {
   "cell_type": "code",
   "execution_count": 47,
   "metadata": {},
   "outputs": [
    {
     "data": {
      "text/plain": [
       "RandomForestClassifier(bootstrap=True, class_weight=None, criterion='gini',\n",
       "            max_depth=None, max_features='auto', max_leaf_nodes=None,\n",
       "            min_impurity_decrease=0.0, min_impurity_split=None,\n",
       "            min_samples_leaf=1, min_samples_split=2,\n",
       "            min_weight_fraction_leaf=0.0, n_estimators=10, n_jobs=1,\n",
       "            oob_score=False, random_state=None, verbose=0,\n",
       "            warm_start=False)"
      ]
     },
     "execution_count": 47,
     "metadata": {},
     "output_type": "execute_result"
    }
   ],
   "source": [
    "final_mod = RandomForestClassifier()\n",
    "final_mod.fit(train_x, train_y)"
   ]
  },
  {
   "cell_type": "code",
   "execution_count": 48,
   "metadata": {},
   "outputs": [
    {
     "data": {
      "text/plain": [
       "array([[ 0.49124986, -0.5018187 ,  0.61395849, ..., -0.76069176,\n",
       "         1.77620232, -0.56039292],\n",
       "       [ 0.49124986, -0.5018187 ,  0.61395849, ...,  1.31173453,\n",
       "        -0.56299893,  1.78446223],\n",
       "       [ 0.49124986, -0.5018187 ,  0.61395849, ...,  1.31173453,\n",
       "        -0.56299893, -0.56039292],\n",
       "       ...,\n",
       "       [ 0.49124986, -0.5018187 ,  0.61395849, ...,  1.31173453,\n",
       "        -0.56299893, -0.56039292],\n",
       "       [ 0.49124986, -0.5018187 , -1.6287746 , ...,  1.31173453,\n",
       "        -0.56299893,  1.78446223],\n",
       "       [ 0.49124986,  1.99275155, -1.6287746 , ..., -0.76069176,\n",
       "        -0.56299893, -0.56039292]])"
      ]
     },
     "execution_count": 48,
     "metadata": {},
     "output_type": "execute_result"
    }
   ],
   "source": [
    "selected_test_x = clf_selected.transform (test_x)\n",
    "clf_selected.transform(test_x)"
   ]
  },
  {
   "cell_type": "code",
   "execution_count": 49,
   "metadata": {},
   "outputs": [
    {
     "data": {
      "text/plain": [
       "RandomForestClassifier(bootstrap=True, class_weight=None, criterion='gini',\n",
       "            max_depth=None, max_features='auto', max_leaf_nodes=None,\n",
       "            min_impurity_decrease=0.0, min_impurity_split=None,\n",
       "            min_samples_leaf=1, min_samples_split=2,\n",
       "            min_weight_fraction_leaf=0.0, n_estimators=10, n_jobs=1,\n",
       "            oob_score=False, random_state=None, verbose=0,\n",
       "            warm_start=False)"
      ]
     },
     "execution_count": 49,
     "metadata": {},
     "output_type": "execute_result"
    }
   ],
   "source": [
    "final_mod.fit(selected_test_x, test_y)"
   ]
  },
  {
   "cell_type": "code",
   "execution_count": 50,
   "metadata": {
    "scrolled": true
   },
   "outputs": [
    {
     "name": "stdout",
     "output_type": "stream",
     "text": [
      "0.7577335735964532 0.759175223971369\n"
     ]
    }
   ],
   "source": [
    "pred1 = final_mod.predict(selected_train_x)\n",
    "pred2 = final_mod.predict(selected_test_x)\n",
    "print(accuracy_score(pred1, train_y), accuracy_score(pred2, test_y))"
   ]
  },
  {
   "cell_type": "code",
   "execution_count": 51,
   "metadata": {},
   "outputs": [
    {
     "data": {
      "text/plain": [
       "array([0, 1])"
      ]
     },
     "execution_count": 51,
     "metadata": {},
     "output_type": "execute_result"
    }
   ],
   "source": [
    "np.unique(pred1)"
   ]
  },
  {
   "cell_type": "code",
   "execution_count": 52,
   "metadata": {},
   "outputs": [
    {
     "data": {
      "text/plain": [
       "array([0, 1])"
      ]
     },
     "execution_count": 52,
     "metadata": {},
     "output_type": "execute_result"
    }
   ],
   "source": [
    "np.unique(pred2)"
   ]
  },
  {
   "cell_type": "code",
   "execution_count": 53,
   "metadata": {},
   "outputs": [],
   "source": [
    "y = acc.severity"
   ]
  },
  {
   "cell_type": "code",
   "execution_count": 72,
   "metadata": {},
   "outputs": [],
   "source": [
    "tmp = acc[['Road_Type','Weather_Conditions','Did_Police_Officer_Attend_Scene_of_Accident',\n",
    "           'Road_Surface_Conditions','Light_Conditions','Urban_or_Rural_Area','Speed_limit',\n",
    "           'season']].to_dict(orient='records')\n",
    "bb = DictVectorizer(sparse=False)\n",
    "X = bb.fit_transform(tmp)"
   ]
  },
  {
   "cell_type": "code",
   "execution_count": 78,
   "metadata": {},
   "outputs": [
    {
     "data": {
      "text/plain": [
       "array([[0., 0., 1., ..., 0., 0., 1.],\n",
       "       [0., 0., 1., ..., 0., 0., 1.],\n",
       "       [0., 0., 1., ..., 0., 0., 1.],\n",
       "       ...,\n",
       "       [0., 0., 1., ..., 0., 0., 1.],\n",
       "       [0., 1., 0., ..., 0., 0., 1.],\n",
       "       [0., 0., 1., ..., 0., 0., 1.]])"
      ]
     },
     "execution_count": 78,
     "metadata": {},
     "output_type": "execute_result"
    }
   ],
   "source": [
    "X"
   ]
  },
  {
   "cell_type": "code",
   "execution_count": 119,
   "metadata": {},
   "outputs": [],
   "source": [
    "X=X[ :,[2,20]]"
   ]
  },
  {
   "cell_type": "code",
   "execution_count": 120,
   "metadata": {},
   "outputs": [
    {
     "data": {
      "text/plain": [
       "array([[ 1., 30.],\n",
       "       [ 1., 30.],\n",
       "       [ 1., 30.],\n",
       "       ...,\n",
       "       [ 1., 60.],\n",
       "       [ 0., 30.],\n",
       "       [ 1., 60.]])"
      ]
     },
     "execution_count": 120,
     "metadata": {},
     "output_type": "execute_result"
    }
   ],
   "source": [
    "X"
   ]
  },
  {
   "cell_type": "code",
   "execution_count": 121,
   "metadata": {},
   "outputs": [],
   "source": [
    "# Both MLPRegressor and MLPClassifier use parameter alpha for regularization (L2 regularization) term \n",
    "# which helps in avoiding overfitting by penalizing weights with large magnitudes."
   ]
  },
  {
   "cell_type": "code",
   "execution_count": 122,
   "metadata": {
    "scrolled": false
   },
   "outputs": [
    {
     "data": {
      "image/png": "[encoded data removed]",
      "text/plain": [
       "<matplotlib.figure.Figure at 0x1b3029ce710>"
      ]
     },
     "metadata": {},
     "output_type": "display_data"
    }
   ],
   "source": [
    "h = .02  # step size in the mesh\n",
    "alphas = np.logspace(-5, 3, 5)\n",
    "names = []\n",
    "for i in alphas:\n",
    "    names.append('alpha ' + str(i))\n",
    "\n",
    "classifiers = []\n",
    "for i in alphas:\n",
    "    classifiers.append(MLPClassifier(alpha=i, random_state=1,max_iter=2000))\n",
    "\n",
    "\n",
    "datasets = [(X,y)]\n",
    "\n",
    "figure = plt.figure(figsize=(17, 9))\n",
    "i = 1\n",
    "# iterate over datasets\n",
    "for X, y in datasets:\n",
    "    # preprocess dataset, split into training and test part\n",
    "    X = StandardScaler().fit_transform(X)\n",
    "    X_train, X_test, y_train, y_test = train_test_split(X, y, test_size=.4)\n",
    "\n",
    "    x_min, x_max = X[:, 0].min() - .5, X[:, 0].max() + .5\n",
    "    y_min, y_max = X[:, 1].min() - .5, X[:, 1].max() + .5\n",
    "    xx, yy = np.meshgrid(np.arange(x_min, x_max, h),\n",
    "                         np.arange(y_min, y_max, h))\n",
    "\n",
    "    # just plot the dataset first\n",
    "    cm = plt.cm.RdBu\n",
    "    cm_bright = ListedColormap(['#FF0000', '#0000FF'])\n",
    "    ax = plt.subplot(len(datasets), len(classifiers) + 1, i)\n",
    "    # Plot the training points\n",
    "    ax.scatter(X_train[:, 0], X_train[:, 1], c=y_train, cmap=cm_bright)\n",
    "    # and testing points\n",
    "    ax.scatter(X_test[:, 0], X_test[:, 1], c=y_test, cmap=cm_bright, alpha=0.6)\n",
    "    ax.set_xlim(xx.min(), xx.max())\n",
    "    ax.set_ylim(yy.min(), yy.max())\n",
    "    ax.set_xticks(())\n",
    "    ax.set_yticks(())\n",
    "    i += 1\n",
    "\n",
    "    # iterate over classifiers\n",
    "    for name, clf in zip(names, classifiers):\n",
    "        ax = plt.subplot(len(datasets), len(classifiers) + 1, i)\n",
    "        clf.fit(X_train, y_train)\n",
    "        score = clf.score(X_test, y_test)\n",
    "\n",
    "        # Plot the decision boundary. For that, we will assign a color to each\n",
    "        # point in the mesh [x_min, x_max]x[y_min, y_max].\n",
    "        if hasattr(clf, \"decision_function\"):\n",
    "            Z = clf.decision_function(np.c_[xx.ravel(), yy.ravel()])\n",
    "        else:\n",
    "            Z = clf.predict_proba(np.c_[xx.ravel(), yy.ravel()])[:, 1]\n",
    "\n",
    "        # Put the result into a color plot\n",
    "        Z = Z.reshape(xx.shape)\n",
    "        ax.contourf(xx, yy, Z, cmap=cm, alpha=.8)\n",
    "\n",
    "        # Plot also the training points\n",
    "        ax.scatter(X_train[:, 0], X_train[:, 1], c=y_train, cmap=cm_bright,\n",
    "                   edgecolors='black', s=25)\n",
    "        # and testing points\n",
    "        ax.scatter(X_test[:, 0], X_test[:, 1], c=y_test, cmap=cm_bright,\n",
    "                   alpha=0.6, edgecolors='black', s=25)\n",
    "\n",
    "        ax.set_xlim(xx.min(), xx.max())\n",
    "        ax.set_ylim(yy.min(), yy.max())\n",
    "        ax.set_xticks(())\n",
    "        ax.set_yticks(())\n",
    "        ax.set_title(name)\n",
    "        ax.text(xx.max() - .3, yy.min() + .3, ('%.2f' % score).lstrip('0'),\n",
    "                size=15, horizontalalignment='right')\n",
    "        i += 1\n",
    "\n",
    "figure.subplots_adjust(left=.02, right=.98)\n",
    "plt.show()"
   ]
  },
  {
   "cell_type": "code",
   "execution_count": null,
   "metadata": {},
   "outputs": [],
   "source": []
  },
  {
   "cell_type": "code",
   "execution_count": null,
   "metadata": {},
   "outputs": [],
   "source": []
  }
 ],
 "metadata": {
  "kernelspec": {
   "display_name": "Python 3",
   "language": "python",
   "name": "python3"
  },
  "language_info": {
   "codemirror_mode": {
    "name": "ipython",
    "version": 3
   },
   "file_extension": ".py",
   "mimetype": "text/x-python",
   "name": "python",
   "nbconvert_exporter": "python",
   "pygments_lexer": "ipython3",
   "version": "3.6.4"
  }
 },
 "nbformat": 4,
 "nbformat_minor": 2
}
