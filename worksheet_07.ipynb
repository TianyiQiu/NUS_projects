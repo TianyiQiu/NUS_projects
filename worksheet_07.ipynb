{
 "cells": [
  {
   "cell_type": "markdown",
   "metadata": {},
   "source": [
    "# Regression Worksheet\n"
   ]
  },
  {
   "cell_type": "markdown",
   "metadata": {},
   "source": [
    "1. Use the Boston Housing dataset to perform the following tasks:\n",
    "    \n",
    "    a. Create a training and test subsets of the dataset.\n",
    "    \n",
    "    b. Create multiple linear regression model with just RM and LSTAT, to predict housing price, and apply it to the test set. Assess the RMSE error.\n",
    "    \n",
    "    c. Plot the residuals from the model and assess if they are suitable.\n",
    "    \n",
    "    d. Go back and try different alternative models:\n",
    "        * Add new features to improve your prediction of housing price.\n",
    "        * Try scaling your features using a pipeline\n",
    "        * Try a LASSO model instead, with different regularisation strengths."
   ]
  },
  {
   "cell_type": "code",
   "execution_count": 292,
   "metadata": {},
   "outputs": [],
   "source": [
    "import numpy as np\n",
    "import pandas as pd\n",
    "import matplotlib.pyplot as plt\n",
    "from pandas.plotting import scatter_matrix\n",
    "\n",
    "from sklearn.linear_model import LinearRegression, Lasso, LogisticRegression\n",
    "from sklearn import metrics, datasets, preprocessing\n",
    "from sklearn.model_selection import StratifiedShuffleSplit,ShuffleSplit\n",
    "from sklearn.pipeline import Pipeline, make_pipeline, FeatureUnion, make_union\n",
    "\n",
    "\n",
    "import scipy.stats as stats\n",
    "import math\n",
    "\n",
    "from sklearn.model_selection import train_test_split\n",
    "from sklearn import preprocessing, svm\n",
    "from sklearn.pipeline import Pipeline, make_pipeline, FeatureUnion, make_union\n",
    "from sklearn.feature_extraction import DictVectorizer\n",
    "from sklearn.ensemble import RandomForestClassifier\n",
    "from sklearn.model_selection import StratifiedKFold, KFold, cross_val_score\n",
    "from sklearn.feature_selection import SelectKBest, chi2, f_regression, RFE, SelectFromModel\n",
    "from sklearn.model_selection import GridSearchCV\n",
    "from sklearn import linear_model, datasets"
   ]
  },
  {
   "cell_type": "code",
   "execution_count": 293,
   "metadata": {},
   "outputs": [
    {
     "name": "stdout",
     "output_type": "stream",
     "text": [
      "Shape of data: (506, 13) (506,)\n"
     ]
    }
   ],
   "source": [
    "boston = datasets.load_boston()\n",
    "X_boston,y_boston = boston.data, boston.target\n",
    "print('Shape of data:', X_boston.shape, y_boston.shape)"
   ]
  },
  {
   "cell_type": "code",
   "execution_count": 294,
   "metadata": {
    "scrolled": true
   },
   "outputs": [
    {
     "name": "stdout",
     "output_type": "stream",
     "text": [
      "Keys: dict_keys(['data', 'target', 'feature_names', 'DESCR'])\n",
      "Feature names: ['CRIM' 'ZN' 'INDUS' 'CHAS' 'NOX' 'RM' 'AGE' 'DIS' 'RAD' 'TAX' 'PTRATIO'\n",
      " 'B' 'LSTAT']\n"
     ]
    }
   ],
   "source": [
    "print ('Keys:', boston.keys())\n",
    "print ('Feature names:',boston.feature_names)"
   ]
  },
  {
   "cell_type": "code",
   "execution_count": 295,
   "metadata": {},
   "outputs": [],
   "source": [
    "indexes = [5, 12]\n",
    "df2 = pd.DataFrame(boston.data[:,indexes],columns = boston.feature_names[indexes])\n",
    "df2['PRICE'] = boston.target"
   ]
  },
  {
   "cell_type": "code",
   "execution_count": 296,
   "metadata": {},
   "outputs": [
    {
     "data": {
      "text/plain": [
       "array([[6.575, 4.98 ],\n",
       "       [6.421, 9.14 ],\n",
       "       [7.185, 4.03 ],\n",
       "       ...,\n",
       "       [6.976, 5.64 ],\n",
       "       [6.794, 6.48 ],\n",
       "       [6.03 , 7.88 ]])"
      ]
     },
     "execution_count": 296,
     "metadata": {},
     "output_type": "execute_result"
    }
   ],
   "source": [
    "X_boston2 = df2.loc[:, ['RM', 'LSTAT']].values\n",
    "X_boston2"
   ]
  },
  {
   "cell_type": "code",
   "execution_count": 297,
   "metadata": {
    "scrolled": true
   },
   "outputs": [
    {
     "name": "stdout",
     "output_type": "stream",
     "text": [
      "TRAIN: [182 155 280 126 329  31 113 148 432 338  57 194  24  17 298  66 211 404\n",
      "  94 154 441  23 225 433 447   5 116  45  16 468 360   3 405 185  60 110\n",
      " 321 265  29 262 478  26   7 492 108  37 157 472 118 114 175 192 272 144\n",
      " 373 383 356 277 220 450 141 369  67 361 168 499 394 400 193 249 109 420\n",
      " 145  92 152 222 304  83 248 165 163 199 231  74 311 455 253 119 284 302\n",
      " 483 357 403 228 261 237 386 476  36 196 139 368 247 287 378  59 111  89\n",
      " 266   6 364 503 341 158 150 177 397 184 318  10 384 103  81  38 317 167\n",
      " 475 299 296 198 377 146 396 147 428 289 123 490  96 143 239 275  97 353\n",
      " 122 183 202 246 484 301 354 410 399 286 125 305 223 422 219 129 424 291\n",
      " 331 380 480 358 297 294 370 438 112 179 310 342 333 487 457 233 314 164\n",
      " 136 197 258 232 115 120 352 224 406 340 127 285 415 107 374 449 133 367\n",
      "  44 495  65 283  85 242 186 425 159  12  35  28 170 142 402 349 221  95\n",
      "  51 240 376 382 178  41 440 391 206 282 254 416   4 256 453 100 226 431\n",
      " 213 426 171  98 292 215  61  47  32 267 327 200 451  27 393 230 260 288\n",
      " 162 429 138  62 135 128 482   8 326 469  64 300  14 156  40 379 465 407\n",
      " 216 279 439 504 337 236 207 212 295 462 251 494 464 303 350 269 201 161\n",
      "  43 217 401 190 309 259 105  53 389   1 446 488  49 419  80 205  34 430\n",
      " 263 427 366  91 339 479  52 345 264 241  13 315  88 387 273 166 328 498\n",
      " 134 306 486 319 243  54 363  50 461 174 445 189 502 463 187 169  58  48\n",
      " 344 235 252  21 313 459 160 276 443 191 385 293 413 343 257 308 149 130\n",
      " 151 359  99 372  87 458 330 214 466 121 505  20 188  71 106 270 348 435\n",
      " 102] TEST: [173 274 491  72 452  76 316 140 471 500 218   9 414  78 323 473 124 388\n",
      " 195 448 271 278  30 501 421 474  79 454 210 497 172 320 375 362 467 153\n",
      "   2 336 208  73 496 307 204  68  90 390  33  70 470   0  11 281  22 101\n",
      " 268 485 442 290  84 245  63  55 229  18 351 209 395  82  39 456  46 481\n",
      " 444 355  77 398 104 203 381 489  69 408 255 392 312 234 460 324  93 137\n",
      " 176 417 131 346 365 132 371 412 436 411  86  75 477  15 332 423  19 325\n",
      " 335  56 437 409 334 181 227 434 180  25 493 238 244 250 418 117  42 322\n",
      " 347]\n"
     ]
    }
   ],
   "source": [
    "ss =ShuffleSplit(n_splits = 1, test_size = 0.25, \n",
    "                             random_state = 42)\n",
    "ss.get_n_splits(X_boston, y_boston)\n",
    "for train_index, test_index in ss.split(X_boston, y_boston):\n",
    "    print(\"TRAIN:\", train_index, \"TEST:\", test_index)\n",
    "    X_train_all_variable, X_test_all_variable = X_boston[train_index], X_boston[test_index]\n",
    "    y_train, y_test = y_boston[train_index], y_boston[test_index]\n",
    "# If the y is catogorizing variable, then change the ShuffleSplit into StratifiedShuffleSplit."
   ]
  },
  {
   "cell_type": "code",
   "execution_count": 298,
   "metadata": {
    "scrolled": true
   },
   "outputs": [
    {
     "name": "stdout",
     "output_type": "stream",
     "text": [
      "TRAIN: [182 155 280 126 329  31 113 148 432 338  57 194  24  17 298  66 211 404\n",
      "  94 154 441  23 225 433 447   5 116  45  16 468 360   3 405 185  60 110\n",
      " 321 265  29 262 478  26   7 492 108  37 157 472 118 114 175 192 272 144\n",
      " 373 383 356 277 220 450 141 369  67 361 168 499 394 400 193 249 109 420\n",
      " 145  92 152 222 304  83 248 165 163 199 231  74 311 455 253 119 284 302\n",
      " 483 357 403 228 261 237 386 476  36 196 139 368 247 287 378  59 111  89\n",
      " 266   6 364 503 341 158 150 177 397 184 318  10 384 103  81  38 317 167\n",
      " 475 299 296 198 377 146 396 147 428 289 123 490  96 143 239 275  97 353\n",
      " 122 183 202 246 484 301 354 410 399 286 125 305 223 422 219 129 424 291\n",
      " 331 380 480 358 297 294 370 438 112 179 310 342 333 487 457 233 314 164\n",
      " 136 197 258 232 115 120 352 224 406 340 127 285 415 107 374 449 133 367\n",
      "  44 495  65 283  85 242 186 425 159  12  35  28 170 142 402 349 221  95\n",
      "  51 240 376 382 178  41 440 391 206 282 254 416   4 256 453 100 226 431\n",
      " 213 426 171  98 292 215  61  47  32 267 327 200 451  27 393 230 260 288\n",
      " 162 429 138  62 135 128 482   8 326 469  64 300  14 156  40 379 465 407\n",
      " 216 279 439 504 337 236 207 212 295 462 251 494 464 303 350 269 201 161\n",
      "  43 217 401 190 309 259 105  53 389   1 446 488  49 419  80 205  34 430\n",
      " 263 427 366  91 339 479  52 345 264 241  13 315  88 387 273 166 328 498\n",
      " 134 306 486 319 243  54 363  50 461 174 445 189 502 463 187 169  58  48\n",
      " 344 235 252  21 313 459 160 276 443 191 385 293 413 343 257 308 149 130\n",
      " 151 359  99 372  87 458 330 214 466 121 505  20 188  71 106 270 348 435\n",
      " 102] TEST: [173 274 491  72 452  76 316 140 471 500 218   9 414  78 323 473 124 388\n",
      " 195 448 271 278  30 501 421 474  79 454 210 497 172 320 375 362 467 153\n",
      "   2 336 208  73 496 307 204  68  90 390  33  70 470   0  11 281  22 101\n",
      " 268 485 442 290  84 245  63  55 229  18 351 209 395  82  39 456  46 481\n",
      " 444 355  77 398 104 203 381 489  69 408 255 392 312 234 460 324  93 137\n",
      " 176 417 131 346 365 132 371 412 436 411  86  75 477  15 332 423  19 325\n",
      " 335  56 437 409 334 181 227 434 180  25 493 238 244 250 418 117  42 322\n",
      " 347]\n"
     ]
    }
   ],
   "source": [
    "ss =ShuffleSplit(n_splits = 1, test_size = 0.25, \n",
    "                             random_state = 42)\n",
    "ss.get_n_splits(X_boston2, y_boston)\n",
    "for train_index, test_index in ss.split(X_boston2, y_boston):\n",
    "    print(\"TRAIN:\", train_index, \"TEST:\", test_index)\n",
    "    X_train, X_test = X_boston2[train_index], X_boston2[test_index]\n",
    "    y_train, y_test = y_boston[train_index], y_boston[test_index]\n",
    "# If the y is catogorizing variable, then change the ShuffleSplit into StratifiedShuffleSplit."
   ]
  },
  {
   "cell_type": "code",
   "execution_count": 299,
   "metadata": {},
   "outputs": [],
   "source": [
    "# training set regression with just RM and LSTAT\n",
    "bos1=LinearRegression()\n",
    "bos1.fit(X_train, y_train)\n",
    "y_hat_train = bos1.predict(X_train)"
   ]
  },
  {
   "cell_type": "code",
   "execution_count": 300,
   "metadata": {},
   "outputs": [
    {
     "name": "stdout",
     "output_type": "stream",
     "text": [
      "The RMSE and R2 are 5.557 and 0.652 respectively.\n"
     ]
    }
   ],
   "source": [
    "r2 = metrics.r2_score(y_train, y_hat_train)\n",
    "mse = metrics.mean_squared_error(y_train, y_hat_train)\n",
    "rmse = math.sqrt(mse)\n",
    "print('The RMSE and R2 are',\n",
    "     '{:.3f} and {:.3f} respectively.'.format(rmse, r2))"
   ]
  },
  {
   "cell_type": "code",
   "execution_count": 301,
   "metadata": {},
   "outputs": [
    {
     "name": "stdout",
     "output_type": "stream",
     "text": [
      "The RMSE and R2 are 5.376 and 0.587 respectively.\n"
     ]
    }
   ],
   "source": [
    "bos1.fit(X_test, y_test)\n",
    "y_hat_test = bos1.predict(X_test)\n",
    "r2 = metrics.r2_score(y_test, y_hat_test)\n",
    "mse = metrics.mean_squared_error(y_test, y_hat_test)\n",
    "rmse = math.sqrt(mse)\n",
    "print('The RMSE and R2 are',\n",
    "     '{:.3f} and {:.3f} respectively.'.format(rmse, r2))"
   ]
  },
  {
   "cell_type": "code",
   "execution_count": 302,
   "metadata": {},
   "outputs": [
    {
     "data": {
      "text/plain": [
       "array([[  1.      ,   7.155   ,   4.82    ,  51.194025,  34.4871  ,\n",
       "         23.2324  ],\n",
       "       [  1.      ,   6.152   ,  15.02    ,  37.847104,  92.40304 ,\n",
       "        225.6004  ],\n",
       "       [  1.      ,   7.82    ,   3.76    ,  61.1524  ,  29.4032  ,\n",
       "         14.1376  ],\n",
       "       ...,\n",
       "       [  1.      ,   6.635   ,   5.99    ,  44.023225,  39.74365 ,\n",
       "         35.8801  ],\n",
       "       [  1.      ,   6.629   ,  23.27    ,  43.943641, 154.25683 ,\n",
       "        541.4929  ],\n",
       "       [  1.      ,   6.405   ,  10.63    ,  41.024025,  68.08515 ,\n",
       "        112.9969  ]])"
      ]
     },
     "execution_count": 302,
     "metadata": {},
     "output_type": "execute_result"
    }
   ],
   "source": [
    "poly = preprocessing.PolynomialFeatures(2)\n",
    "X_train_q = poly.fit_transform(X_train)\n",
    "X_train_q"
   ]
  },
  {
   "cell_type": "code",
   "execution_count": 303,
   "metadata": {},
   "outputs": [
    {
     "name": "stdout",
     "output_type": "stream",
     "text": [
      "The RMSE and R2 are 4.576 and 0.764 respectively.\n"
     ]
    }
   ],
   "source": [
    "bos_qr = LinearRegression()\n",
    "bos_qr.fit(X_train_q, y_train)\n",
    "y_hat_train_q = bos_qr.predict(X_train_q)\n",
    "r2 = metrics.r2_score(y_train, y_hat_train_q)\n",
    "mse = metrics.mean_squared_error(y_train, y_hat_train_q)\n",
    "rmse = math.sqrt(mse)\n",
    "print('The RMSE and R2 are',\n",
    "     '{:.3f} and {:.3f} respectively.'.format(rmse, r2))"
   ]
  },
  {
   "cell_type": "code",
   "execution_count": 304,
   "metadata": {},
   "outputs": [
    {
     "name": "stdout",
     "output_type": "stream",
     "text": [
      "The RMSE and R2 are 4.158 and 0.753 respectively.\n"
     ]
    }
   ],
   "source": [
    "poly = preprocessing.PolynomialFeatures(2)\n",
    "X_test_q = poly.fit_transform(X_test)\n",
    "X_test_q\n",
    "\n",
    "bos_qr = LinearRegression()\n",
    "bos_qr.fit(X_test_q, y_test)\n",
    "y_hat_test_q = bos_qr.predict(X_test_q)\n",
    "r2 = metrics.r2_score(y_test, y_hat_test_q)\n",
    "mse = metrics.mean_squared_error(y_test, y_hat_test_q)\n",
    "rmse = math.sqrt(mse)\n",
    "print('The RMSE and R2 are',\n",
    "     '{:.3f} and {:.3f} respectively.'.format(rmse, r2))"
   ]
  },
  {
   "cell_type": "code",
   "execution_count": 305,
   "metadata": {},
   "outputs": [
    {
     "name": "stdout",
     "output_type": "stream",
     "text": [
      "The RMSE and R2 are 4.319 and 0.790 respectively.\n"
     ]
    }
   ],
   "source": [
    "poly = preprocessing.PolynomialFeatures(3)\n",
    "X_train_q = poly.fit_transform(X_train)\n",
    "X_train_q\n",
    "bos_qr = LinearRegression()\n",
    "bos_qr.fit(X_train_q, y_train)\n",
    "y_hat_train_q = bos_qr.predict(X_train_q)\n",
    "r2 = metrics.r2_score(y_train, y_hat_train_q)\n",
    "mse = metrics.mean_squared_error(y_train, y_hat_train_q)\n",
    "rmse = math.sqrt(mse)\n",
    "print('The RMSE and R2 are',\n",
    "     '{:.3f} and {:.3f} respectively.'.format(rmse, r2))"
   ]
  },
  {
   "cell_type": "code",
   "execution_count": 306,
   "metadata": {
    "scrolled": true
   },
   "outputs": [
    {
     "name": "stdout",
     "output_type": "stream",
     "text": [
      "The RMSE and R2 are 4.072 and 0.763 respectively.\n"
     ]
    }
   ],
   "source": [
    "poly = preprocessing.PolynomialFeatures(3)\n",
    "X_test_q = poly.fit_transform(X_test)\n",
    "X_test_q\n",
    "bos_qr = LinearRegression()\n",
    "bos_qr.fit(X_test_q, y_test)\n",
    "y_hat_test_q = bos_qr.predict(X_test_q)\n",
    "r2 = metrics.r2_score(y_test, y_hat_test_q)\n",
    "mse = metrics.mean_squared_error(y_test, y_hat_test_q)\n",
    "rmse = math.sqrt(mse)\n",
    "print('The RMSE and R2 are',\n",
    "     '{:.3f} and {:.3f} respectively.'.format(rmse, r2))"
   ]
  },
  {
   "cell_type": "code",
   "execution_count": 307,
   "metadata": {
    "scrolled": true
   },
   "outputs": [
    {
     "data": {
      "text/plain": [
       "array([[0.    , 0.488 , 7.155 ],\n",
       "       [1.    , 0.871 , 6.152 ],\n",
       "       [0.    , 0.4429, 7.82  ],\n",
       "       ...,\n",
       "       [0.    , 0.435 , 6.635 ],\n",
       "       [0.    , 0.74  , 6.629 ],\n",
       "       [0.    , 0.52  , 6.405 ]])"
      ]
     },
     "execution_count": 307,
     "metadata": {},
     "output_type": "execute_result"
    }
   ],
   "source": [
    "clf = Pipeline([\n",
    "  ('feature_selection', SelectFromModel(LinearRegression())),\n",
    "  #('classification', RandomForestClassifier())\n",
    "])\n",
    "clf.fit(X_train_all_variable, y_train)\n",
    "X_selected_train=clf.transform(X_train_all_variable)\n",
    "clf.transform(X_train_all_variable)"
   ]
  },
  {
   "cell_type": "code",
   "execution_count": 308,
   "metadata": {},
   "outputs": [
    {
     "data": {
      "text/plain": [
       "LinearRegression(copy_X=True, fit_intercept=True, n_jobs=1, normalize=False)"
      ]
     },
     "execution_count": 308,
     "metadata": {},
     "output_type": "execute_result"
    }
   ],
   "source": [
    "final_linear_mod = LinearRegression()\n",
    "final_linear_mod.fit(X_train_all_variable, y_train)"
   ]
  },
  {
   "cell_type": "code",
   "execution_count": 309,
   "metadata": {},
   "outputs": [
    {
     "data": {
      "text/plain": [
       "array([[0.    , 0.51  , 6.416 ],\n",
       "       [1.    , 0.447 , 6.758 ],\n",
       "       [0.    , 0.609 , 5.983 ],\n",
       "       [0.    , 0.413 , 6.065 ],\n",
       "       [0.    , 0.713 , 6.297 ],\n",
       "       [0.    , 0.437 , 6.279 ],\n",
       "       [0.    , 0.544 , 5.914 ],\n",
       "       [0.    , 0.624 , 6.174 ],\n",
       "       [0.    , 0.532 , 6.229 ],\n",
       "       [0.    , 0.585 , 6.027 ],\n",
       "       [1.    , 0.55  , 5.951 ],\n",
       "       [0.    , 0.524 , 6.004 ],\n",
       "       [0.    , 0.693 , 4.519 ],\n",
       "       [0.    , 0.437 , 6.232 ],\n",
       "       [0.    , 0.493 , 5.708 ],\n",
       "       [0.    , 0.614 , 6.98  ],\n",
       "       [0.    , 0.581 , 5.879 ],\n",
       "       [0.    , 0.7   , 4.88  ],\n",
       "       [0.    , 0.422 , 7.875 ],\n",
       "       [0.    , 0.713 , 6.185 ],\n",
       "       [0.    , 0.464 , 6.24  ],\n",
       "       [0.    , 0.447 , 6.482 ],\n",
       "       [0.    , 0.538 , 5.713 ],\n",
       "       [0.    , 0.573 , 6.593 ],\n",
       "       [0.    , 0.718 , 6.006 ],\n",
       "       [0.    , 0.584 , 5.427 ],\n",
       "       [0.    , 0.437 , 5.874 ],\n",
       "       [0.    , 0.713 , 6.728 ],\n",
       "       [1.    , 0.489 , 5.96  ],\n",
       "       [0.    , 0.585 , 5.794 ],\n",
       "       [0.    , 0.51  , 5.572 ],\n",
       "       [0.    , 0.493 , 6.426 ],\n",
       "       [0.    , 0.671 , 7.313 ],\n",
       "       [0.    , 0.77  , 5.362 ],\n",
       "       [0.    , 0.584 , 6.003 ],\n",
       "       [0.    , 0.871 , 5.709 ],\n",
       "       [0.    , 0.469 , 7.185 ],\n",
       "       [0.    , 0.515 , 5.869 ],\n",
       "       [1.    , 0.489 , 6.064 ],\n",
       "       [0.    , 0.413 , 6.245 ],\n",
       "       [0.    , 0.585 , 5.39  ],\n",
       "       [0.    , 0.472 , 6.849 ],\n",
       "       [0.    , 0.4161, 8.034 ],\n",
       "       [0.    , 0.409 , 5.594 ],\n",
       "       [0.    , 0.489 , 6.417 ],\n",
       "       [0.    , 0.7   , 5.713 ],\n",
       "       [0.    , 0.538 , 5.701 ],\n",
       "       [0.    , 0.413 , 6.417 ],\n",
       "       [0.    , 0.58  , 6.167 ],\n",
       "       [0.    , 0.538 , 6.575 ],\n",
       "       [0.    , 0.524 , 6.009 ],\n",
       "       [0.    , 0.4429, 6.968 ],\n",
       "       [0.    , 0.538 , 6.142 ],\n",
       "       [0.    , 0.52  , 6.781 ],\n",
       "       [0.    , 0.575 , 7.47  ],\n",
       "       [0.    , 0.583 , 6.312 ],\n",
       "       [0.    , 0.74  , 6.219 ],\n",
       "       [0.    , 0.411 , 6.861 ],\n",
       "       [0.    , 0.449 , 6.389 ],\n",
       "       [0.    , 0.431 , 5.605 ],\n",
       "       [0.    , 0.453 , 6.762 ],\n",
       "       [0.    , 0.403 , 7.249 ],\n",
       "       [0.    , 0.504 , 6.552 ],\n",
       "       [0.    , 0.538 , 5.456 ],\n",
       "       [0.    , 0.411 , 6.579 ],\n",
       "       [1.    , 0.489 , 5.344 ],\n",
       "       [0.    , 0.693 , 6.471 ],\n",
       "       [0.    , 0.426 , 6.302 ],\n",
       "       [0.    , 0.428 , 6.595 ],\n",
       "       [0.    , 0.713 , 5.976 ],\n",
       "       [0.    , 0.448 , 5.786 ],\n",
       "       [0.    , 0.532 , 6.75  ],\n",
       "       [0.    , 0.74  , 5.854 ],\n",
       "       [0.    , 0.413 , 5.936 ],\n",
       "       [0.    , 0.437 , 6.14  ],\n",
       "       [0.    , 0.693 , 5.453 ],\n",
       "       [0.    , 0.52  , 6.167 ],\n",
       "       [0.    , 0.4161, 7.853 ],\n",
       "       [0.    , 0.671 , 6.545 ],\n",
       "       [0.    , 0.609 , 5.414 ],\n",
       "       [0.    , 0.409 , 5.885 ],\n",
       "       [0.    , 0.597 , 5.617 ],\n",
       "       [0.    , 0.392 , 5.876 ],\n",
       "       [0.    , 0.7   , 5.036 ],\n",
       "       [0.    , 0.544 , 6.023 ],\n",
       "       [1.    , 0.507 , 6.726 ],\n",
       "       [0.    , 0.713 , 6.701 ],\n",
       "       [0.    , 0.493 , 6.415 ],\n",
       "       [0.    , 0.464 , 6.211 ],\n",
       "       [0.    , 0.624 , 6.454 ],\n",
       "       [0.    , 0.51  , 6.02  ],\n",
       "       [0.    , 0.679 , 5.304 ],\n",
       "       [0.    , 0.624 , 6.326 ],\n",
       "       [0.    , 0.442 , 5.898 ],\n",
       "       [0.    , 0.718 , 3.561 ],\n",
       "       [0.    , 0.624 , 6.372 ],\n",
       "       [0.    , 0.631 , 6.216 ],\n",
       "       [0.    , 0.597 , 4.628 ],\n",
       "       [0.    , 0.74  , 6.461 ],\n",
       "       [0.    , 0.597 , 6.657 ],\n",
       "       [0.    , 0.449 , 6.015 ],\n",
       "       [0.    , 0.437 , 6.286 ],\n",
       "       [0.    , 0.614 , 5.304 ],\n",
       "       [0.    , 0.538 , 5.834 ],\n",
       "       [0.    , 0.4379, 6.031 ],\n",
       "       [0.    , 0.614 , 6.103 ],\n",
       "       [0.    , 0.538 , 5.727 ],\n",
       "       [0.    , 0.493 , 6.431 ],\n",
       "       [0.    , 0.515 , 6.037 ],\n",
       "       [0.    , 0.41  , 6.383 ],\n",
       "       [0.    , 0.74  , 6.152 ],\n",
       "       [0.    , 0.597 , 6.852 ],\n",
       "       [0.    , 0.515 , 6.31  ],\n",
       "       [0.    , 0.488 , 6.144 ],\n",
       "       [0.    , 0.504 , 7.163 ],\n",
       "       [0.    , 0.713 , 6.208 ],\n",
       "       [0.    , 0.488 , 7.765 ],\n",
       "       [0.    , 0.538 , 5.599 ],\n",
       "       [0.    , 0.585 , 5.707 ],\n",
       "       [0.    , 0.428 , 6.481 ],\n",
       "       [0.    , 0.431 , 5.593 ],\n",
       "       [0.    , 0.431 , 6.487 ],\n",
       "       [0.    , 0.679 , 5.957 ],\n",
       "       [0.    , 0.547 , 6.021 ],\n",
       "       [0.    , 0.448 , 6.169 ],\n",
       "       [0.    , 0.493 , 6.041 ],\n",
       "       [0.    , 0.429 , 6.516 ]])"
      ]
     },
     "execution_count": 309,
     "metadata": {},
     "output_type": "execute_result"
    }
   ],
   "source": [
    "X_selected_test=clf.transform(X_test_all_variable)\n",
    "clf.transform(X_test_all_variable)"
   ]
  },
  {
   "cell_type": "code",
   "execution_count": 310,
   "metadata": {},
   "outputs": [
    {
     "data": {
      "text/plain": [
       "LinearRegression(copy_X=True, fit_intercept=True, n_jobs=1, normalize=False)"
      ]
     },
     "execution_count": 310,
     "metadata": {},
     "output_type": "execute_result"
    }
   ],
   "source": [
    "final_linear_mod.fit(X_selected_test, y_test)"
   ]
  },
  {
   "cell_type": "code",
   "execution_count": 311,
   "metadata": {},
   "outputs": [],
   "source": [
    "y_hat2= final_linear_mod.predict(X_selected_test)"
   ]
  },
  {
   "cell_type": "code",
   "execution_count": 312,
   "metadata": {},
   "outputs": [
    {
     "name": "stdout",
     "output_type": "stream",
     "text": [
      "The RMSE and R2 are 5.890 and 0.505 respectively.\n"
     ]
    }
   ],
   "source": [
    "r2 = metrics.r2_score(y_test, y_hat2)\n",
    "mse = metrics.mean_squared_error(y_test, y_hat2)\n",
    "rmse = math.sqrt(mse)\n",
    "print('The RMSE and R2 are',\n",
    "     '{:.3f} and {:.3f} respectively.'.format(rmse, r2))"
   ]
  },
  {
   "cell_type": "code",
   "execution_count": 313,
   "metadata": {},
   "outputs": [],
   "source": [
    "# See all variables with LASSO."
   ]
  },
  {
   "cell_type": "code",
   "execution_count": 314,
   "metadata": {},
   "outputs": [
    {
     "data": {
      "text/plain": [
       "0.7070114354536654"
      ]
     },
     "execution_count": 314,
     "metadata": {},
     "output_type": "execute_result"
    }
   ],
   "source": [
    "lasso = linear_model.LassoCV(alphas=None, copy_X=True, cv=None, eps=0.001, fit_intercept=True,\n",
    "    max_iter=1000, n_alphas=100, n_jobs=1, normalize=False, positive=False,\n",
    "    precompute='auto', random_state=None, selection='cyclic', tol=0.0001,\n",
    "    verbose=False)\n",
    "lasso.fit(X_train_all_variable, y_train)\n",
    "# The estimator chose automatically its lambda:\n",
    "lasso.alpha_ "
   ]
  },
  {
   "cell_type": "code",
   "execution_count": 315,
   "metadata": {},
   "outputs": [
    {
     "data": {
      "text/plain": [
       "Lasso(alpha=0.7070114354536654, copy_X=True, fit_intercept=True,\n",
       "   max_iter=1000, normalize=False, positive=False, precompute=False,\n",
       "   random_state=None, selection='cyclic', tol=0.0001, warm_start=False)"
      ]
     },
     "execution_count": 315,
     "metadata": {},
     "output_type": "execute_result"
    }
   ],
   "source": [
    "final_lasso_mod = Lasso(alpha = lasso.alpha_)\n",
    "final_lasso_mod.fit(X_train_all_variable, y_train)"
   ]
  },
  {
   "cell_type": "code",
   "execution_count": 316,
   "metadata": {},
   "outputs": [],
   "source": [
    "yhat = final_lasso_mod.predict(X_test_all_variable)"
   ]
  },
  {
   "cell_type": "code",
   "execution_count": 317,
   "metadata": {
    "scrolled": true
   },
   "outputs": [
    {
     "name": "stdout",
     "output_type": "stream",
     "text": [
      "The RMSE and R2 are 4.853 and 0.664 respectively.\n"
     ]
    }
   ],
   "source": [
    "r2 = metrics.r2_score(y_test, yhat)\n",
    "mse = metrics.mean_squared_error(y_test, yhat)\n",
    "rmse = math.sqrt(mse)\n",
    "print('The RMSE and R2 are',\n",
    "     '{:.3f} and {:.3f} respectively.'.format(rmse, r2))"
   ]
  },
  {
   "cell_type": "code",
   "execution_count": 318,
   "metadata": {
    "scrolled": true
   },
   "outputs": [
    {
     "data": {
      "text/plain": [
       "<matplotlib.lines.Line2D at 0x217782b82b0>"
      ]
     },
     "execution_count": 318,
     "metadata": {},
     "output_type": "execute_result"
    },
    {
     "data": {
      "image/png": "[encoded data removed]",
      "text/plain": [
       "<matplotlib.figure.Figure at 0x21778270f60>"
      ]
     },
     "metadata": {},
     "output_type": "display_data"
    }
   ],
   "source": [
    "res = y_test - yhat\n",
    "plt.scatter(X_test_all_variable[:, 1], res, alpha=0.3)\n",
    "plt.title(\"Residuals vs. X\")\n",
    "plt.axhline(0, color='red')"
   ]
  },
  {
   "cell_type": "code",
   "execution_count": 319,
   "metadata": {},
   "outputs": [
    {
     "data": {
      "text/plain": [
       "((array([-2.5463381 , -2.21997991, -2.03230259, -1.89701519, -1.78953414,\n",
       "         -1.6994643 , -1.62138714, -1.55210318, -1.4895582 , -1.43235119,\n",
       "         -1.37948184, -1.33020984, -1.28397117, -1.24032572, -1.19892311,\n",
       "         -1.1594796 , -1.121762  , -1.08557617, -1.05075865, -1.01717045,\n",
       "         -0.98469227, -0.95322091, -0.92266645, -0.89294999, -0.86400188,\n",
       "         -0.83576031, -0.80817012, -0.78118183, -0.7547509 , -0.72883702,\n",
       "         -0.7034036 , -0.67841727, -0.65384749, -0.62966625, -0.60584774,\n",
       "         -0.58236809, -0.55920522, -0.53633858, -0.51374902, -0.49141865,\n",
       "         -0.4693307 , -0.4474694 , -0.42581991, -0.4043682 , -0.383101  ,\n",
       "         -0.36200569, -0.34107027, -0.3202833 , -0.29963382, -0.27911134,\n",
       "         -0.25870575, -0.23840733, -0.21820667, -0.19809468, -0.1780625 ,\n",
       "         -0.15810153, -0.13820337, -0.11835978, -0.09856269, -0.07880416,\n",
       "         -0.05907635, -0.03937151, -0.01968194,  0.        ,  0.01968194,\n",
       "          0.03937151,  0.05907635,  0.07880416,  0.09856269,  0.11835978,\n",
       "          0.13820337,  0.15810153,  0.1780625 ,  0.19809468,  0.21820667,\n",
       "          0.23840733,  0.25870575,  0.27911134,  0.29963382,  0.3202833 ,\n",
       "          0.34107027,  0.36200569,  0.383101  ,  0.4043682 ,  0.42581991,\n",
       "          0.4474694 ,  0.4693307 ,  0.49141865,  0.51374902,  0.53633858,\n",
       "          0.55920522,  0.58236809,  0.60584774,  0.62966625,  0.65384749,\n",
       "          0.67841727,  0.7034036 ,  0.72883702,  0.7547509 ,  0.78118183,\n",
       "          0.80817012,  0.83576031,  0.86400188,  0.89294999,  0.92266645,\n",
       "          0.95322091,  0.98469227,  1.01717045,  1.05075865,  1.08557617,\n",
       "          1.121762  ,  1.1594796 ,  1.19892311,  1.24032572,  1.28397117,\n",
       "          1.33020984,  1.37948184,  1.43235119,  1.4895582 ,  1.55210318,\n",
       "          1.62138714,  1.6994643 ,  1.78953414,  1.89701519,  2.03230259,\n",
       "          2.21997991,  2.5463381 ]),\n",
       "  array([-8.97439515, -7.11170263, -6.93986468, -6.07818623, -5.12321596,\n",
       "         -5.07224565, -4.83811005, -4.83093977, -4.69460692, -4.47370318,\n",
       "         -4.45949821, -4.34716344, -4.33597425, -4.33145055, -4.31647573,\n",
       "         -4.20611027, -4.13777992, -4.07171318, -3.77727046, -3.7261102 ,\n",
       "         -3.40870279, -3.2619181 , -3.16352654, -3.15919775, -2.97378597,\n",
       "         -2.86157598, -2.74410816, -2.70823561, -2.69638674, -2.62090742,\n",
       "         -2.59382162, -2.58615748, -2.52842271, -2.51237336, -2.46407906,\n",
       "         -2.44499283, -2.39629899, -2.35853631, -2.28128921, -2.2526625 ,\n",
       "         -2.22512487, -2.22480285, -2.16654268, -2.10110186, -2.07744799,\n",
       "         -2.01943564, -1.97143043, -1.92391728, -1.69522871, -1.69227087,\n",
       "         -1.65023257, -1.60259857, -1.53471897, -1.47743791, -1.46309964,\n",
       "         -1.45738424, -1.44052201, -1.42907396, -1.41358804, -1.2607931 ,\n",
       "         -1.25762331, -1.19566296, -1.19387818, -1.11093709, -1.05824773,\n",
       "         -1.0457994 , -0.97291822, -0.97290841, -0.92756642, -0.67415873,\n",
       "         -0.63046471, -0.61547974, -0.54839642, -0.46275855, -0.35383079,\n",
       "         -0.20921607, -0.20068831, -0.19356892, -0.19126306, -0.18679217,\n",
       "         -0.09503778,  0.06631037,  0.16467561,  0.23325565,  0.30808846,\n",
       "          0.34913364,  0.41343577,  0.45059628,  0.4764079 ,  0.54899725,\n",
       "          0.57330688,  0.59001869,  0.70399746,  0.95452981,  0.96515082,\n",
       "          1.18817906,  1.20968189,  1.61378068,  1.67143799,  1.91080574,\n",
       "          1.94553654,  2.51546622,  3.531107  ,  3.65421765,  3.66004413,\n",
       "          3.66619681,  3.92414703,  4.12820768,  4.13005791,  4.31480933,\n",
       "          4.5005458 ,  4.85043707,  5.12767174,  5.23765542,  5.25221683,\n",
       "          6.32988022,  6.37884049,  7.2456593 ,  7.5021973 ,  8.82179569,\n",
       "         10.28075844, 10.72385257, 11.46788542, 12.10337196, 12.96241134,\n",
       "         19.86396246, 25.21066255])),\n",
       " (4.464803618294848, 0.08609401628205257, 0.9050559448441375))"
      ]
     },
     "execution_count": 319,
     "metadata": {},
     "output_type": "execute_result"
    },
    {
     "data": {
      "image/png": "[encoded data removed]",
      "text/plain": [
       "<matplotlib.figure.Figure at 0x217782cfd30>"
      ]
     },
     "metadata": {},
     "output_type": "display_data"
    }
   ],
   "source": [
    "stats.probplot(res, dist=\"norm\", plot=plt)"
   ]
  },
  {
   "cell_type": "code",
   "execution_count": 320,
   "metadata": {},
   "outputs": [
    {
     "data": {
      "text/plain": [
       "0.1"
      ]
     },
     "execution_count": 320,
     "metadata": {},
     "output_type": "execute_result"
    }
   ],
   "source": [
    "from sklearn import linear_model\n",
    "reg = linear_model.RidgeCV(alphas=[0.1, 1.0, 10.0], cv=None, fit_intercept=True, scoring=None,\n",
    "    normalize=False)\n",
    "reg.fit(X_train_all_variable, y_train)       \n",
    "reg.alpha_ "
   ]
  },
  {
   "cell_type": "code",
   "execution_count": 321,
   "metadata": {},
   "outputs": [
    {
     "data": {
      "text/plain": [
       "Lasso(alpha=0.1, copy_X=True, fit_intercept=True, max_iter=1000,\n",
       "   normalize=False, positive=False, precompute=False, random_state=None,\n",
       "   selection='cyclic', tol=0.0001, warm_start=False)"
      ]
     },
     "execution_count": 321,
     "metadata": {},
     "output_type": "execute_result"
    }
   ],
   "source": [
    "final2 = Lasso(alpha = reg.alpha_)\n",
    "final2.fit(X_test_all_variable, y_test)"
   ]
  },
  {
   "cell_type": "code",
   "execution_count": 322,
   "metadata": {},
   "outputs": [
    {
     "name": "stdout",
     "output_type": "stream",
     "text": [
      "The RMSE and R2 are 4.325 and 0.733 respectively.\n"
     ]
    }
   ],
   "source": [
    "y_hat_ri = final2.predict(X_test_all_variable)\n",
    "r2 = metrics.r2_score(y_test, y_hat_ri)\n",
    "mse = metrics.mean_squared_error(y_test, y_hat_ri)\n",
    "rmse = math.sqrt(mse)\n",
    "print('The RMSE and R2 are',\n",
    "     '{:.3f} and {:.3f} respectively.'.format(rmse, r2))"
   ]
  },
  {
   "cell_type": "code",
   "execution_count": 323,
   "metadata": {},
   "outputs": [
    {
     "data": {
      "text/plain": [
       "<matplotlib.lines.Line2D at 0x21778375fd0>"
      ]
     },
     "execution_count": 323,
     "metadata": {},
     "output_type": "execute_result"
    },
    {
     "data": {
      "image/png": "[encoded data removed]",
      "text/plain": [
       "<matplotlib.figure.Figure at 0x21777dc60b8>"
      ]
     },
     "metadata": {},
     "output_type": "display_data"
    }
   ],
   "source": [
    "res = y_test - y_hat_ri\n",
    "plt.scatter(X_test_all_variable[:, 1], res, alpha=0.3)\n",
    "plt.title(\"Residuals vs. X\")\n",
    "plt.axhline(0, color='red')"
   ]
  },
  {
   "cell_type": "code",
   "execution_count": 324,
   "metadata": {},
   "outputs": [
    {
     "data": {
      "text/plain": [
       "((array([-2.5463381 , -2.21997991, -2.03230259, -1.89701519, -1.78953414,\n",
       "         -1.6994643 , -1.62138714, -1.55210318, -1.4895582 , -1.43235119,\n",
       "         -1.37948184, -1.33020984, -1.28397117, -1.24032572, -1.19892311,\n",
       "         -1.1594796 , -1.121762  , -1.08557617, -1.05075865, -1.01717045,\n",
       "         -0.98469227, -0.95322091, -0.92266645, -0.89294999, -0.86400188,\n",
       "         -0.83576031, -0.80817012, -0.78118183, -0.7547509 , -0.72883702,\n",
       "         -0.7034036 , -0.67841727, -0.65384749, -0.62966625, -0.60584774,\n",
       "         -0.58236809, -0.55920522, -0.53633858, -0.51374902, -0.49141865,\n",
       "         -0.4693307 , -0.4474694 , -0.42581991, -0.4043682 , -0.383101  ,\n",
       "         -0.36200569, -0.34107027, -0.3202833 , -0.29963382, -0.27911134,\n",
       "         -0.25870575, -0.23840733, -0.21820667, -0.19809468, -0.1780625 ,\n",
       "         -0.15810153, -0.13820337, -0.11835978, -0.09856269, -0.07880416,\n",
       "         -0.05907635, -0.03937151, -0.01968194,  0.        ,  0.01968194,\n",
       "          0.03937151,  0.05907635,  0.07880416,  0.09856269,  0.11835978,\n",
       "          0.13820337,  0.15810153,  0.1780625 ,  0.19809468,  0.21820667,\n",
       "          0.23840733,  0.25870575,  0.27911134,  0.29963382,  0.3202833 ,\n",
       "          0.34107027,  0.36200569,  0.383101  ,  0.4043682 ,  0.42581991,\n",
       "          0.4474694 ,  0.4693307 ,  0.49141865,  0.51374902,  0.53633858,\n",
       "          0.55920522,  0.58236809,  0.60584774,  0.62966625,  0.65384749,\n",
       "          0.67841727,  0.7034036 ,  0.72883702,  0.7547509 ,  0.78118183,\n",
       "          0.80817012,  0.83576031,  0.86400188,  0.89294999,  0.92266645,\n",
       "          0.95322091,  0.98469227,  1.01717045,  1.05075865,  1.08557617,\n",
       "          1.121762  ,  1.1594796 ,  1.19892311,  1.24032572,  1.28397117,\n",
       "          1.33020984,  1.37948184,  1.43235119,  1.4895582 ,  1.55210318,\n",
       "          1.62138714,  1.6994643 ,  1.78953414,  1.89701519,  2.03230259,\n",
       "          2.21997991,  2.5463381 ]),\n",
       "  array([-7.72650214e+00, -7.52896358e+00, -6.72847426e+00, -6.68080489e+00,\n",
       "         -6.53764893e+00, -6.53562620e+00, -6.52938384e+00, -5.32975412e+00,\n",
       "         -5.12977644e+00, -4.99838231e+00, -4.91840231e+00, -4.66317767e+00,\n",
       "         -4.45547341e+00, -4.17970707e+00, -4.12984372e+00, -4.08630545e+00,\n",
       "         -3.94170288e+00, -3.90356336e+00, -3.83528588e+00, -3.78508007e+00,\n",
       "         -3.69646805e+00, -3.67831679e+00, -3.39581944e+00, -3.36769789e+00,\n",
       "         -3.34101665e+00, -3.27423215e+00, -3.20040913e+00, -2.93814790e+00,\n",
       "         -2.88474694e+00, -2.85685691e+00, -2.84805329e+00, -2.82757539e+00,\n",
       "         -2.79187930e+00, -2.67510939e+00, -2.65009781e+00, -2.50482637e+00,\n",
       "         -2.48161548e+00, -2.37668917e+00, -2.15246296e+00, -2.03216086e+00,\n",
       "         -1.91850021e+00, -1.77202387e+00, -1.60318922e+00, -1.56167150e+00,\n",
       "         -1.30126130e+00, -1.29071040e+00, -1.20574483e+00, -1.18068334e+00,\n",
       "         -1.12972951e+00, -1.12717117e+00, -1.09858376e+00, -1.05496415e+00,\n",
       "         -9.61871496e-01, -8.33144740e-01, -8.11281208e-01, -7.38975477e-01,\n",
       "         -6.92214733e-01, -6.72856839e-01, -6.31534284e-01, -5.46296667e-01,\n",
       "         -4.96287425e-01, -4.13273635e-01, -3.93794399e-01, -3.92574100e-01,\n",
       "         -3.23707722e-01, -2.62719945e-01, -1.30589656e-01, -6.02148197e-02,\n",
       "         -1.50277865e-02,  1.07476898e-02,  1.35391069e-02,  8.47418125e-02,\n",
       "          1.03122340e-01,  1.60602869e-01,  1.89675663e-01,  2.12931332e-01,\n",
       "          2.57247033e-01,  3.27072781e-01,  4.80333359e-01,  5.25232961e-01,\n",
       "          5.80802716e-01,  6.28309516e-01,  6.43009972e-01,  6.78357489e-01,\n",
       "          7.13671758e-01,  7.85856843e-01,  8.28065464e-01,  8.69421059e-01,\n",
       "          9.18637422e-01,  9.26474466e-01,  9.28991514e-01,  1.25417776e+00,\n",
       "          1.30646836e+00,  1.31938812e+00,  1.44446983e+00,  1.48657461e+00,\n",
       "          1.51961894e+00,  1.66951569e+00,  1.81159856e+00,  2.36003316e+00,\n",
       "          2.36289308e+00,  2.69745679e+00,  2.79824249e+00,  3.05869722e+00,\n",
       "          3.10195525e+00,  3.11881071e+00,  3.23246553e+00,  3.31950630e+00,\n",
       "          3.50622817e+00,  3.94096156e+00,  3.98012487e+00,  4.07874365e+00,\n",
       "          4.15822537e+00,  4.23104637e+00,  4.83079042e+00,  5.65624041e+00,\n",
       "          5.72177158e+00,  6.42558957e+00,  6.71399227e+00,  6.73892535e+00,\n",
       "          6.94489989e+00,  7.81332960e+00,  7.94574863e+00,  9.17423588e+00,\n",
       "          9.37798206e+00,  1.23656201e+01,  2.58854653e+01])),\n",
       " (4.0923509262682405, -2.9683852894240015e-15, 0.930639489471646))"
      ]
     },
     "execution_count": 324,
     "metadata": {},
     "output_type": "execute_result"
    },
    {
     "data": {
      "image/png": "[encoded data removed]",
      "text/plain": [
       "<matplotlib.figure.Figure at 0x2177832d160>"
      ]
     },
     "metadata": {},
     "output_type": "display_data"
    }
   ],
   "source": [
    "stats.probplot(res, dist=\"norm\", plot=plt)"
   ]
  },
  {
   "cell_type": "markdown",
   "metadata": {},
   "source": [
    "2. Use the NBA dataset to perform the following tasks:\n",
    "\n",
    "    a. Create training and test subsets of the dataset.\n",
    "    \n",
    "    b. Create a logistic regression model with more than just 3-point percentage as a feature.\n",
    "    \n",
    "    c. Produce the confusion matrix.\n",
    "    \n",
    "    d. Apply one of the models we learned in topic 6 and compare the performance of the two models.\n",
    "   "
   ]
  }
 ],
 "metadata": {
  "kernelspec": {
   "display_name": "Python 3",
   "language": "python",
   "name": "python3"
  },
  "language_info": {
   "codemirror_mode": {
    "name": "ipython",
    "version": 3
   },
   "file_extension": ".py",
   "mimetype": "text/x-python",
   "name": "python",
   "nbconvert_exporter": "python",
   "pygments_lexer": "ipython3",
   "version": "3.6.4"
  }
 },
 "nbformat": 4,
 "nbformat_minor": 2
}
